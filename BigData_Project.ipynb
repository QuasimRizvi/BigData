{
  "nbformat": 4,
  "nbformat_minor": 0,
  "metadata": {
    "colab": {
      "name": "BigData-Project.ipynb",
      "provenance": [],
      "collapsed_sections": [],
      "authorship_tag": "ABX9TyPFJla8FrEb6uZKoozs3/+1",
      "include_colab_link": true
    },
    "kernelspec": {
      "name": "python3",
      "display_name": "Python 3"
    },
    "language_info": {
      "name": "python"
    }
  },
  "cells": [
    {
      "cell_type": "markdown",
      "metadata": {
        "id": "view-in-github",
        "colab_type": "text"
      },
      "source": [
        "<a href=\"https://colab.research.google.com/github/QuasimRizvi/BigData/blob/main/BigData_Project.ipynb\" target=\"_parent\"><img src=\"https://colab.research.google.com/assets/colab-badge.svg\" alt=\"Open In Colab\"/></a>"
      ]
    },
    {
      "cell_type": "code",
      "metadata": {
        "id": "rO50ao4Hv0tX"
      },
      "source": [
        "!apt-get install openjdk-8-jdk-headless -qq > /dev/null"
      ],
      "execution_count": 48,
      "outputs": []
    },
    {
      "cell_type": "code",
      "metadata": {
        "id": "7ap1iAUyv3uI"
      },
      "source": [
        "!wget -q https://downloads.apache.org/spark/spark-3.1.1/spark-3.1.1-bin-hadoop2.7.tgz"
      ],
      "execution_count": 51,
      "outputs": []
    },
    {
      "cell_type": "code",
      "metadata": {
        "id": "w83wh8Jwv_Lt",
        "colab": {
          "base_uri": "https://localhost:8080/"
        },
        "outputId": "f52c3869-9c09-4f06-abb7-87010c7726fe"
      },
      "source": [
        "!tar xf spark-3.1.1-bin-hadoop2.7.tgz"
      ],
      "execution_count": 50,
      "outputs": [
        {
          "output_type": "stream",
          "text": [
            "\n",
            "gzip: stdin: unexpected end of file\n",
            "tar: Unexpected EOF in archive\n",
            "tar: Unexpected EOF in archive\n",
            "tar: Error is not recoverable: exiting now\n"
          ],
          "name": "stdout"
        }
      ]
    },
    {
      "cell_type": "code",
      "metadata": {
        "id": "ShDXvd_qwHXx"
      },
      "source": [
        "!pip install -q findspark"
      ],
      "execution_count": null,
      "outputs": []
    },
    {
      "cell_type": "code",
      "metadata": {
        "id": "Yu9OvQ0YwLZv"
      },
      "source": [
        "import os\n",
        "os.environ[\"JAVA_HOME\"] = \"/usr/lib/jvm/java-8-openjdk-amd64\"\n",
        "os.environ[\"SPARK_HOME\"] = \"/content/spark-3.1.1-bin-hadoop2.7\""
      ],
      "execution_count": null,
      "outputs": []
    },
    {
      "cell_type": "code",
      "metadata": {
        "id": "2UgebYA8wQZe"
      },
      "source": [
        "import findspark\n",
        "findspark.init()"
      ],
      "execution_count": 52,
      "outputs": []
    },
    {
      "cell_type": "code",
      "metadata": {
        "colab": {
          "base_uri": "https://localhost:8080/",
          "height": 35
        },
        "id": "zR_-TA-KwV5d",
        "outputId": "96399cba-ee68-4bed-c22e-c245c6ab67fb"
      },
      "source": [
        "findspark.find()"
      ],
      "execution_count": 53,
      "outputs": [
        {
          "output_type": "execute_result",
          "data": {
            "application/vnd.google.colaboratory.intrinsic+json": {
              "type": "string"
            },
            "text/plain": [
              "'/content/spark-3.1.1-bin-hadoop2.7'"
            ]
          },
          "metadata": {
            "tags": []
          },
          "execution_count": 53
        }
      ]
    },
    {
      "cell_type": "code",
      "metadata": {
        "colab": {
          "base_uri": "https://localhost:8080/"
        },
        "id": "Y0o5xiTdwaIO",
        "outputId": "dd35c65d-1224-4fd0-89fa-fe0be2219cd7"
      },
      "source": [
        "!wget https://bin.equinox.io/c/4VmDzA7iaHb/ngrok-stable-linux-amd64.zip\n",
        "!unzip -y ngrok-stable-linux-amd64.zip\n",
        "get_ipython().system_raw('./ngrok http 4050 &')\n",
        "!curl -s http://localhost:4040/api/tunnels"
      ],
      "execution_count": 54,
      "outputs": [
        {
          "output_type": "stream",
          "text": [
            "--2021-03-31 03:45:18--  https://bin.equinox.io/c/4VmDzA7iaHb/ngrok-stable-linux-amd64.zip\n",
            "Resolving bin.equinox.io (bin.equinox.io)... 35.171.215.128, 3.226.107.193, 52.6.49.248, ...\n",
            "Connecting to bin.equinox.io (bin.equinox.io)|35.171.215.128|:443... connected.\n",
            "HTTP request sent, awaiting response... 200 OK\n",
            "Length: 14746350 (14M) [application/octet-stream]\n",
            "Saving to: ‘ngrok-stable-linux-amd64.zip’\n",
            "\n",
            "ngrok-stable-linux- 100%[===================>]  14.06M  63.3MB/s    in 0.2s    \n",
            "\n",
            "2021-03-31 03:45:19 (63.3 MB/s) - ‘ngrok-stable-linux-amd64.zip’ saved [14746350/14746350]\n",
            "\n",
            "UnZip 6.00 of 20 April 2009, by Debian. Original by Info-ZIP.\n",
            "\n",
            "Usage: unzip [-Z] [-opts[modifiers]] file[.zip] [list] [-x xlist] [-d exdir]\n",
            "  Default action is to extract files in list, except those in xlist, to exdir;\n",
            "  file[.zip] may be a wildcard.  -Z => ZipInfo mode (\"unzip -Z\" for usage).\n",
            "\n",
            "  -p  extract files to pipe, no messages     -l  list files (short format)\n",
            "  -f  freshen existing files, create none    -t  test compressed archive data\n",
            "  -u  update files, create if necessary      -z  display archive comment only\n",
            "  -v  list verbosely/show version info       -T  timestamp archive to latest\n",
            "  -x  exclude files that follow (in xlist)   -d  extract files into exdir\n",
            "modifiers:\n",
            "  -n  never overwrite existing files         -q  quiet mode (-qq => quieter)\n",
            "  -o  overwrite files WITHOUT prompting      -a  auto-convert any text files\n",
            "  -j  junk paths (do not make directories)   -aa treat ALL files as text\n",
            "  -U  use escapes for all non-ASCII Unicode  -UU ignore any Unicode fields\n",
            "  -C  match filenames case-insensitively     -L  make (some) names lowercase\n",
            "  -X  restore UID/GID info                   -V  retain VMS version numbers\n",
            "  -K  keep setuid/setgid/tacky permissions   -M  pipe through \"more\" pager\n",
            "  -O CHARSET  specify a character encoding for DOS, Windows and OS/2 archives\n",
            "  -I CHARSET  specify a character encoding for UNIX and other archives\n",
            "\n",
            "See \"unzip -hh\" or unzip.txt for more help.  Examples:\n",
            "  unzip data1 -x joe   => extract all files except joe from zipfile data1.zip\n",
            "  unzip -p foo | more  => send contents of foo.zip via pipe into program more\n",
            "  unzip -fo foo ReadMe => quietly replace existing ReadMe if archive file newer\n",
            "<html>\n",
            "<head>\n",
            "<meta http-equiv=\"Content-Type\" content=\"text/html;charset=utf-8\"/>\n",
            "<title>Error 404 Not Found</title>\n",
            "</head>\n",
            "<body><h2>HTTP ERROR 404 Not Found</h2>\n",
            "<table>\n",
            "<tr><th>URI:</th><td>/api/tunnels</td></tr>\n",
            "<tr><th>STATUS:</th><td>404</td></tr>\n",
            "<tr><th>MESSAGE:</th><td>Not Found</td></tr>\n",
            "<tr><th>SERVLET:</th><td>org.glassfish.jersey.servlet.ServletContainer-4d42d2cb</td></tr>\n",
            "</table>\n",
            "<hr><a href=\"https://eclipse.org/jetty\">Powered by Jetty:// 9.4.36.v20210114</a><hr/>\n",
            "\n",
            "</body>\n",
            "</html>\n"
          ],
          "name": "stdout"
        }
      ]
    },
    {
      "cell_type": "code",
      "metadata": {
        "colab": {
          "base_uri": "https://localhost:8080/"
        },
        "id": "qzGWcw5dxIRY",
        "outputId": "8d8ab82d-0c17-4c18-cfd9-91a3ab5b18f0"
      },
      "source": [
        "ls"
      ],
      "execution_count": 55,
      "outputs": [
        {
          "output_type": "stream",
          "text": [
            "adc.json                      spark-3.1.1-bin-hadoop2.7.tgz\n",
            "ngrok-stable-linux-amd64.zip  spark-3.1.1-bin-hadoop2.7.tgz.1\n",
            "\u001b[0m\u001b[01;34msample_data\u001b[0m/                  spark-3.1.1-bin-hadoop2.7.tgz.2\n",
            "\u001b[01;34mspark-3.1.1-bin-hadoop2.7\u001b[0m/\n"
          ],
          "name": "stdout"
        }
      ]
    },
    {
      "cell_type": "code",
      "metadata": {
        "id": "_bObzKhDxRkQ"
      },
      "source": [
        "from pyspark import SparkContext,SparkConf\n",
        "from pyspark.sql import SparkSession\n",
        "import pyspark\n",
        "conf = pyspark.SparkConf()\n",
        "conf.set(\"spark.driver.memory\",\"8G\");\n",
        "import numpy as np\n",
        "sc = SparkContext.getOrCreate(conf=conf)\n",
        "from pyspark.sql.functions import round, col"
      ],
      "execution_count": 56,
      "outputs": []
    },
    {
      "cell_type": "code",
      "metadata": {
        "id": "nfbqllwrxobF"
      },
      "source": [
        "project_id = 'api3-307502'"
      ],
      "execution_count": 57,
      "outputs": []
    },
    {
      "cell_type": "code",
      "metadata": {
        "id": "EOxslvMwzZ9q"
      },
      "source": [
        "from google.colab import auth\n",
        "auth.authenticate_user()"
      ],
      "execution_count": 58,
      "outputs": []
    },
    {
      "cell_type": "code",
      "metadata": {
        "colab": {
          "base_uri": "https://localhost:8080/"
        },
        "id": "emLWG3JUzi9E",
        "outputId": "03550b7e-ca1f-4994-9ed0-f7a1b033b70b"
      },
      "source": [
        "!gcloud config set project {project_id}"
      ],
      "execution_count": 59,
      "outputs": [
        {
          "output_type": "stream",
          "text": [
            "Updated property [core/project].\n"
          ],
          "name": "stdout"
        }
      ]
    },
    {
      "cell_type": "code",
      "metadata": {
        "colab": {
          "base_uri": "https://localhost:8080/"
        },
        "id": "clr2KAViz9Pm",
        "outputId": "760b5b53-d720-4b8c-ef59-120c5d31f476"
      },
      "source": [
        "!gsutil cp gs://ethereum-bigdata/contracts* /tmp/"
      ],
      "execution_count": 60,
      "outputs": [
        {
          "output_type": "stream",
          "text": [
            "Copying gs://ethereum-bigdata/contracts_2019_11_01__2020_01_01_000000000000...\n",
            "Copying gs://ethereum-bigdata/contracts_2019_11_01__2020_01_01_000000000001...\n",
            "Copying gs://ethereum-bigdata/contracts_2019_11_01__2020_01_01_000000000002...\n",
            "Copying gs://ethereum-bigdata/contracts_2020_03_01__2020_05_01_000000000000...\n",
            "- [4 files][  1.6 GiB/  1.6 GiB]   48.7 MiB/s                                   \n",
            "==> NOTE: You are performing a sequence of gsutil operations that may\n",
            "run significantly faster if you instead use gsutil -m cp ... Please\n",
            "see the -m section under \"gsutil help options\" for further information\n",
            "about when gsutil -m can be advantageous.\n",
            "\n",
            "Copying gs://ethereum-bigdata/contracts_2020_03_01__2020_05_01_000000000001...\n",
            "Copying gs://ethereum-bigdata/contracts_2020_03_01__2020_05_01_000000000002...\n",
            "Copying gs://ethereum-bigdata/contracts_2020_07_01__2020_09_01_000000000000...\n",
            "Copying gs://ethereum-bigdata/contracts_2020_07_01__2020_09_01_000000000001...\n",
            "Copying gs://ethereum-bigdata/contracts_2020_07_01__2020_09_01_000000000002...\n",
            "Copying gs://ethereum-bigdata/contracts_2020_07_01__2020_09_01_000000000003...\n",
            "Copying gs://ethereum-bigdata/contracts_2020_11_01__2021_01_01_000000000000...\n",
            "Copying gs://ethereum-bigdata/contracts_2020_11_01__2021_01_01_000000000001...\n",
            "Copying gs://ethereum-bigdata/contracts_2020_11_01__2021_01_01_000000000002...\n",
            "/ [13 files][  5.7 GiB/  5.7 GiB]   76.7 MiB/s                                  \n",
            "Operation completed over 13 objects/5.7 GiB.                                     \n"
          ],
          "name": "stdout"
        }
      ]
    },
    {
      "cell_type": "code",
      "metadata": {
        "id": "MIFgNsqf2Rai"
      },
      "source": [
        "spark = SparkSession(sc)"
      ],
      "execution_count": 62,
      "outputs": []
    },
    {
      "cell_type": "code",
      "metadata": {
        "id": "u5x1G_z394Zu"
      },
      "source": [
        "contracts = os.listdir('/tmp')"
      ],
      "execution_count": 67,
      "outputs": []
    },
    {
      "cell_type": "code",
      "metadata": {
        "colab": {
          "base_uri": "https://localhost:8080/"
        },
        "id": "Xzv1P7tiArx5",
        "outputId": "9bc2e4b9-88fb-415e-e864-f29037319779"
      },
      "source": [
        "contracts = [\"/tmp/\" +x for x in contracts if \"contracts_\" in x]\n",
        "contracts.sort()\n",
        "contracts"
      ],
      "execution_count": 68,
      "outputs": [
        {
          "output_type": "execute_result",
          "data": {
            "text/plain": [
              "['/tmp/contracts_2019_11_01__2020_01_01_000000000000',\n",
              " '/tmp/contracts_2019_11_01__2020_01_01_000000000001',\n",
              " '/tmp/contracts_2019_11_01__2020_01_01_000000000002',\n",
              " '/tmp/contracts_2020_03_01__2020_05_01_000000000000',\n",
              " '/tmp/contracts_2020_03_01__2020_05_01_000000000001',\n",
              " '/tmp/contracts_2020_03_01__2020_05_01_000000000002',\n",
              " '/tmp/contracts_2020_07_01__2020_09_01_000000000000',\n",
              " '/tmp/contracts_2020_07_01__2020_09_01_000000000001',\n",
              " '/tmp/contracts_2020_07_01__2020_09_01_000000000002',\n",
              " '/tmp/contracts_2020_07_01__2020_09_01_000000000003',\n",
              " '/tmp/contracts_2020_11_01__2021_01_01_000000000000',\n",
              " '/tmp/contracts_2020_11_01__2021_01_01_000000000001',\n",
              " '/tmp/contracts_2020_11_01__2021_01_01_000000000002']"
            ]
          },
          "metadata": {
            "tags": []
          },
          "execution_count": 68
        }
      ]
    },
    {
      "cell_type": "code",
      "metadata": {
        "id": "kI_9CM76AtJZ"
      },
      "source": [
        "from functools import reduce\n",
        "dfContracts = reduce(lambda x,y: x.unionAll(y), \n",
        "            [spark.read.format('com.databricks.spark.csv')\n",
        "                       .load(f, header=\"true\", inferSchema=\"true\") \n",
        "             for f in contracts])"
      ],
      "execution_count": 69,
      "outputs": []
    },
    {
      "cell_type": "code",
      "metadata": {
        "id": "J9gwVTYHCupA"
      },
      "source": [
        "dfContracts.createOrReplaceTempView(\"contracts\")"
      ],
      "execution_count": 71,
      "outputs": []
    },
    {
      "cell_type": "code",
      "metadata": {
        "colab": {
          "base_uri": "https://localhost:8080/"
        },
        "id": "MLe4zBz-DCA1",
        "outputId": "e04d7923-fb82-44bb-9085-2a739f2b45d3"
      },
      "source": [
        "spark.sql(\"Select COUNT(*) FROM contracts\").show()"
      ],
      "execution_count": 72,
      "outputs": [
        {
          "output_type": "stream",
          "text": [
            "+--------+\n",
            "|count(1)|\n",
            "+--------+\n",
            "|10134812|\n",
            "+--------+\n",
            "\n"
          ],
          "name": "stdout"
        }
      ]
    },
    {
      "cell_type": "code",
      "metadata": {
        "id": "BeTe2pEMDPUV",
        "colab": {
          "base_uri": "https://localhost:8080/"
        },
        "outputId": "27105923-58d5-4b39-919d-c96077ecc6b8"
      },
      "source": [
        "!gsutil cp gs://ethereum-bigdata/transactions* /tmp/"
      ],
      "execution_count": 73,
      "outputs": [
        {
          "output_type": "stream",
          "text": [
            "Copying gs://ethereum-bigdata/transactions_2019_11_01__2020_01_01_000000000000...\n",
            "Copying gs://ethereum-bigdata/transactions_2019_11_01__2020_01_01_000000000001...\n",
            "Copying gs://ethereum-bigdata/transactions_2019_11_01__2020_01_01_000000000002...\n",
            "Copying gs://ethereum-bigdata/transactions_2019_11_01__2020_01_01_000000000003...\n",
            "/ [4 files][  1.8 GiB/  1.8 GiB]   49.2 MiB/s                                   \n",
            "==> NOTE: You are performing a sequence of gsutil operations that may\n",
            "run significantly faster if you instead use gsutil -m cp ... Please\n",
            "see the -m section under \"gsutil help options\" for further information\n",
            "about when gsutil -m can be advantageous.\n",
            "\n",
            "Copying gs://ethereum-bigdata/transactions_2019_11_01__2020_01_01_000000000004...\n",
            "Copying gs://ethereum-bigdata/transactions_2019_11_01__2020_01_01_000000000005...\n",
            "Copying gs://ethereum-bigdata/transactions_2019_11_01__2020_01_01_000000000006...\n",
            "Copying gs://ethereum-bigdata/transactions_2019_11_01__2020_01_01_000000000007...\n",
            "Copying gs://ethereum-bigdata/transactions_2019_11_01__2020_01_01_000000000008...\n",
            "Copying gs://ethereum-bigdata/transactions_2019_11_01__2020_01_01_000000000009...\n",
            "Copying gs://ethereum-bigdata/transactions_2019_11_01__2020_01_01_000000000010...\n",
            "Copying gs://ethereum-bigdata/transactions_2019_11_01__2020_01_01_000000000011...\n",
            "Copying gs://ethereum-bigdata/transactions_2019_11_01__2020_01_01_000000000012...\n",
            "Copying gs://ethereum-bigdata/transactions_2019_11_01__2020_01_01_000000000013...\n",
            "Copying gs://ethereum-bigdata/transactions_2019_11_01__2020_01_01_000000000014...\n",
            "Copying gs://ethereum-bigdata/transactions_2019_11_01__2020_01_01_000000000015...\n",
            "Copying gs://ethereum-bigdata/transactions_2019_11_01__2020_01_01_000000000016...\n",
            "Copying gs://ethereum-bigdata/transactions_2019_11_01__2020_01_01_000000000017...\n",
            "Copying gs://ethereum-bigdata/transactions_2020_03_01__2020_05_01_000000000000...\n",
            "Copying gs://ethereum-bigdata/transactions_2020_03_01__2020_05_01_000000000001...\n",
            "Copying gs://ethereum-bigdata/transactions_2020_03_01__2020_05_01_000000000002...\n",
            "Copying gs://ethereum-bigdata/transactions_2020_03_01__2020_05_01_000000000003...\n",
            "Copying gs://ethereum-bigdata/transactions_2020_03_01__2020_05_01_000000000004...\n",
            "Copying gs://ethereum-bigdata/transactions_2020_03_01__2020_05_01_000000000005...\n",
            "Copying gs://ethereum-bigdata/transactions_2020_03_01__2020_05_01_000000000006...\n",
            "Copying gs://ethereum-bigdata/transactions_2020_03_01__2020_05_01_000000000007...\n",
            "Copying gs://ethereum-bigdata/transactions_2020_03_01__2020_05_01_000000000008...\n",
            "Copying gs://ethereum-bigdata/transactions_2020_03_01__2020_05_01_000000000009...\n",
            "Copying gs://ethereum-bigdata/transactions_2020_03_01__2020_05_01_000000000010...\n",
            "Copying gs://ethereum-bigdata/transactions_2020_03_01__2020_05_01_000000000011...\n",
            "Copying gs://ethereum-bigdata/transactions_2020_03_01__2020_05_01_000000000012...\n",
            "Copying gs://ethereum-bigdata/transactions_2020_03_01__2020_05_01_000000000013...\n",
            "Copying gs://ethereum-bigdata/transactions_2020_03_01__2020_05_01_000000000014...\n",
            "Copying gs://ethereum-bigdata/transactions_2020_03_01__2020_05_01_000000000015...\n",
            "Copying gs://ethereum-bigdata/transactions_2020_03_01__2020_05_01_000000000016...\n",
            "Copying gs://ethereum-bigdata/transactions_2020_03_01__2020_05_01_000000000017...\n",
            "Copying gs://ethereum-bigdata/transactions_2020_03_01__2020_05_01_000000000018...\n",
            "Copying gs://ethereum-bigdata/transactions_2020_03_01__2020_05_01_000000000019...\n",
            "Copying gs://ethereum-bigdata/transactions_2020_03_01__2020_05_01_000000000020...\n",
            "Copying gs://ethereum-bigdata/transactions_2020_03_01__2020_05_01_000000000021...\n",
            "Copying gs://ethereum-bigdata/transactions_2020_07_01__2020_09_01_000000000000...\n",
            "Copying gs://ethereum-bigdata/transactions_2020_07_01__2020_09_01_000000000001...\n",
            "Copying gs://ethereum-bigdata/transactions_2020_07_01__2020_09_01_000000000002...\n",
            "Copying gs://ethereum-bigdata/transactions_2020_07_01__2020_09_01_000000000003...\n",
            "Copying gs://ethereum-bigdata/transactions_2020_07_01__2020_09_01_000000000004...\n",
            "Copying gs://ethereum-bigdata/transactions_2020_07_01__2020_09_01_000000000005...\n",
            "Copying gs://ethereum-bigdata/transactions_2020_07_01__2020_09_01_000000000006...\n",
            "Copying gs://ethereum-bigdata/transactions_2020_07_01__2020_09_01_000000000007...\n",
            "Copying gs://ethereum-bigdata/transactions_2020_07_01__2020_09_01_000000000008...\n",
            "Copying gs://ethereum-bigdata/transactions_2020_07_01__2020_09_01_000000000009...\n",
            "Copying gs://ethereum-bigdata/transactions_2020_07_01__2020_09_01_000000000010...\n",
            "Copying gs://ethereum-bigdata/transactions_2020_07_01__2020_09_01_000000000011...\n",
            "Copying gs://ethereum-bigdata/transactions_2020_07_01__2020_09_01_000000000012...\n",
            "Copying gs://ethereum-bigdata/transactions_2020_07_01__2020_09_01_000000000013...\n",
            "Copying gs://ethereum-bigdata/transactions_2020_07_01__2020_09_01_000000000014...\n",
            "Copying gs://ethereum-bigdata/transactions_2020_07_01__2020_09_01_000000000015...\n",
            "Copying gs://ethereum-bigdata/transactions_2020_07_01__2020_09_01_000000000016...\n",
            "Copying gs://ethereum-bigdata/transactions_2020_07_01__2020_09_01_000000000017...\n",
            "Copying gs://ethereum-bigdata/transactions_2020_07_01__2020_09_01_000000000018...\n",
            "Copying gs://ethereum-bigdata/transactions_2020_07_01__2020_09_01_000000000019...\n",
            "Copying gs://ethereum-bigdata/transactions_2020_07_01__2020_09_01_000000000020...\n",
            "Copying gs://ethereum-bigdata/transactions_2020_07_01__2020_09_01_000000000021...\n",
            "Copying gs://ethereum-bigdata/transactions_2020_07_01__2020_09_01_000000000022...\n",
            "Copying gs://ethereum-bigdata/transactions_2020_07_01__2020_09_01_000000000023...\n",
            "Copying gs://ethereum-bigdata/transactions_2020_07_01__2020_09_01_000000000024...\n",
            "Copying gs://ethereum-bigdata/transactions_2020_07_01__2020_09_01_000000000025...\n",
            "Copying gs://ethereum-bigdata/transactions_2020_07_01__2020_09_01_000000000026...\n",
            "Copying gs://ethereum-bigdata/transactions_2020_07_01__2020_09_01_000000000027...\n",
            "Copying gs://ethereum-bigdata/transactions_2020_07_01__2020_09_01_000000000028...\n",
            "Copying gs://ethereum-bigdata/transactions_2020_07_01__2020_09_01_000000000029...\n",
            "Copying gs://ethereum-bigdata/transactions_2020_07_01__2020_09_01_000000000030...\n",
            "Copying gs://ethereum-bigdata/transactions_2020_07_01__2020_09_01_000000000031...\n",
            "Copying gs://ethereum-bigdata/transactions_2020_07_01__2020_09_01_000000000032...\n",
            "Copying gs://ethereum-bigdata/transactions_2020_11_01__2021_01_01_000000000000...\n",
            "Copying gs://ethereum-bigdata/transactions_2020_11_01__2021_01_01_000000000001...\n",
            "Copying gs://ethereum-bigdata/transactions_2020_11_01__2021_01_01_000000000002...\n",
            "Copying gs://ethereum-bigdata/transactions_2020_11_01__2021_01_01_000000000003...\n",
            "Copying gs://ethereum-bigdata/transactions_2020_11_01__2021_01_01_000000000004...\n",
            "Copying gs://ethereum-bigdata/transactions_2020_11_01__2021_01_01_000000000005...\n",
            "Copying gs://ethereum-bigdata/transactions_2020_11_01__2021_01_01_000000000006...\n",
            "Copying gs://ethereum-bigdata/transactions_2020_11_01__2021_01_01_000000000007...\n",
            "Copying gs://ethereum-bigdata/transactions_2020_11_01__2021_01_01_000000000008...\n",
            "Copying gs://ethereum-bigdata/transactions_2020_11_01__2021_01_01_000000000009...\n",
            "Copying gs://ethereum-bigdata/transactions_2020_11_01__2021_01_01_000000000010...\n",
            "Copying gs://ethereum-bigdata/transactions_2020_11_01__2021_01_01_000000000011...\n",
            "Copying gs://ethereum-bigdata/transactions_2020_11_01__2021_01_01_000000000012...\n",
            "Copying gs://ethereum-bigdata/transactions_2020_11_01__2021_01_01_000000000013...\n",
            "Copying gs://ethereum-bigdata/transactions_2020_11_01__2021_01_01_000000000014...\n",
            "Copying gs://ethereum-bigdata/transactions_2020_11_01__2021_01_01_000000000015...\n",
            "Copying gs://ethereum-bigdata/transactions_2020_11_01__2021_01_01_000000000016...\n",
            "Copying gs://ethereum-bigdata/transactions_2020_11_01__2021_01_01_000000000017...\n",
            "Copying gs://ethereum-bigdata/transactions_2020_11_01__2021_01_01_000000000018...\n",
            "Copying gs://ethereum-bigdata/transactions_2020_11_01__2021_01_01_000000000019...\n",
            "Copying gs://ethereum-bigdata/transactions_2020_11_01__2021_01_01_000000000020...\n",
            "Copying gs://ethereum-bigdata/transactions_2020_11_01__2021_01_01_000000000021...\n",
            "Copying gs://ethereum-bigdata/transactions_2020_11_01__2021_01_01_000000000022...\n",
            "Copying gs://ethereum-bigdata/transactions_2020_11_01__2021_01_01_000000000023...\n",
            "Copying gs://ethereum-bigdata/transactions_2020_11_01__2021_01_01_000000000024...\n",
            "Copying gs://ethereum-bigdata/transactions_2020_11_01__2021_01_01_000000000025...\n",
            "Copying gs://ethereum-bigdata/transactions_2020_11_01__2021_01_01_000000000026...\n",
            "Copying gs://ethereum-bigdata/transactions_2020_11_01__2021_01_01_000000000027...\n",
            "Copying gs://ethereum-bigdata/transactions_2020_11_01__2021_01_01_000000000028...\n",
            "Copying gs://ethereum-bigdata/transactions_2020_11_01__2021_01_01_000000000029...\n",
            "Copying gs://ethereum-bigdata/transactions_2020_11_01__2021_01_01_000000000030...\n",
            "Copying gs://ethereum-bigdata/transactions_2020_11_01__2021_01_01_000000000031...\n",
            "Copying gs://ethereum-bigdata/transactions_2020_11_01__2021_01_01_000000000032...\n",
            "- [106 files][ 49.1 GiB/ 49.1 GiB]   50.4 MiB/s                                 \n",
            "==> NOTE: You are performing a sequence of gsutil operations that may\n",
            "run significantly faster if you instead use gsutil -m cp ... Please\n",
            "see the -m section under \"gsutil help options\" for further information\n",
            "about when gsutil -m can be advantageous.\n",
            "\n",
            "\n",
            "Operation completed over 106 objects/49.1 GiB.                                   \n"
          ],
          "name": "stdout"
        }
      ]
    },
    {
      "cell_type": "code",
      "metadata": {
        "id": "_q8BgnCDD2iG",
        "colab": {
          "base_uri": "https://localhost:8080/"
        },
        "outputId": "3f9595f7-b836-48d3-a0b9-6987d73e091e"
      },
      "source": [
        "transactions = os.listdir('/tmp')\n",
        "transactions = [\"/tmp/\" +x for x in transactions if \"transactions_\" in x]\n",
        "transactions.sort()\n",
        "transactions"
      ],
      "execution_count": 74,
      "outputs": [
        {
          "output_type": "execute_result",
          "data": {
            "text/plain": [
              "['/tmp/transactions_2019_11_01__2020_01_01_000000000000',\n",
              " '/tmp/transactions_2019_11_01__2020_01_01_000000000001',\n",
              " '/tmp/transactions_2019_11_01__2020_01_01_000000000002',\n",
              " '/tmp/transactions_2019_11_01__2020_01_01_000000000003',\n",
              " '/tmp/transactions_2019_11_01__2020_01_01_000000000004',\n",
              " '/tmp/transactions_2019_11_01__2020_01_01_000000000005',\n",
              " '/tmp/transactions_2019_11_01__2020_01_01_000000000006',\n",
              " '/tmp/transactions_2019_11_01__2020_01_01_000000000007',\n",
              " '/tmp/transactions_2019_11_01__2020_01_01_000000000008',\n",
              " '/tmp/transactions_2019_11_01__2020_01_01_000000000009',\n",
              " '/tmp/transactions_2019_11_01__2020_01_01_000000000010',\n",
              " '/tmp/transactions_2019_11_01__2020_01_01_000000000011',\n",
              " '/tmp/transactions_2019_11_01__2020_01_01_000000000012',\n",
              " '/tmp/transactions_2019_11_01__2020_01_01_000000000013',\n",
              " '/tmp/transactions_2019_11_01__2020_01_01_000000000014',\n",
              " '/tmp/transactions_2019_11_01__2020_01_01_000000000015',\n",
              " '/tmp/transactions_2019_11_01__2020_01_01_000000000016',\n",
              " '/tmp/transactions_2019_11_01__2020_01_01_000000000017',\n",
              " '/tmp/transactions_2020_03_01__2020_05_01_000000000000',\n",
              " '/tmp/transactions_2020_03_01__2020_05_01_000000000001',\n",
              " '/tmp/transactions_2020_03_01__2020_05_01_000000000002',\n",
              " '/tmp/transactions_2020_03_01__2020_05_01_000000000003',\n",
              " '/tmp/transactions_2020_03_01__2020_05_01_000000000004',\n",
              " '/tmp/transactions_2020_03_01__2020_05_01_000000000005',\n",
              " '/tmp/transactions_2020_03_01__2020_05_01_000000000006',\n",
              " '/tmp/transactions_2020_03_01__2020_05_01_000000000007',\n",
              " '/tmp/transactions_2020_03_01__2020_05_01_000000000008',\n",
              " '/tmp/transactions_2020_03_01__2020_05_01_000000000009',\n",
              " '/tmp/transactions_2020_03_01__2020_05_01_000000000010',\n",
              " '/tmp/transactions_2020_03_01__2020_05_01_000000000011',\n",
              " '/tmp/transactions_2020_03_01__2020_05_01_000000000012',\n",
              " '/tmp/transactions_2020_03_01__2020_05_01_000000000013',\n",
              " '/tmp/transactions_2020_03_01__2020_05_01_000000000014',\n",
              " '/tmp/transactions_2020_03_01__2020_05_01_000000000015',\n",
              " '/tmp/transactions_2020_03_01__2020_05_01_000000000016',\n",
              " '/tmp/transactions_2020_03_01__2020_05_01_000000000017',\n",
              " '/tmp/transactions_2020_03_01__2020_05_01_000000000018',\n",
              " '/tmp/transactions_2020_03_01__2020_05_01_000000000019',\n",
              " '/tmp/transactions_2020_03_01__2020_05_01_000000000020',\n",
              " '/tmp/transactions_2020_03_01__2020_05_01_000000000021',\n",
              " '/tmp/transactions_2020_07_01__2020_09_01_000000000000',\n",
              " '/tmp/transactions_2020_07_01__2020_09_01_000000000001',\n",
              " '/tmp/transactions_2020_07_01__2020_09_01_000000000002',\n",
              " '/tmp/transactions_2020_07_01__2020_09_01_000000000003',\n",
              " '/tmp/transactions_2020_07_01__2020_09_01_000000000004',\n",
              " '/tmp/transactions_2020_07_01__2020_09_01_000000000005',\n",
              " '/tmp/transactions_2020_07_01__2020_09_01_000000000006',\n",
              " '/tmp/transactions_2020_07_01__2020_09_01_000000000007',\n",
              " '/tmp/transactions_2020_07_01__2020_09_01_000000000008',\n",
              " '/tmp/transactions_2020_07_01__2020_09_01_000000000009',\n",
              " '/tmp/transactions_2020_07_01__2020_09_01_000000000010',\n",
              " '/tmp/transactions_2020_07_01__2020_09_01_000000000011',\n",
              " '/tmp/transactions_2020_07_01__2020_09_01_000000000012',\n",
              " '/tmp/transactions_2020_07_01__2020_09_01_000000000013',\n",
              " '/tmp/transactions_2020_07_01__2020_09_01_000000000014',\n",
              " '/tmp/transactions_2020_07_01__2020_09_01_000000000015',\n",
              " '/tmp/transactions_2020_07_01__2020_09_01_000000000016',\n",
              " '/tmp/transactions_2020_07_01__2020_09_01_000000000017',\n",
              " '/tmp/transactions_2020_07_01__2020_09_01_000000000018',\n",
              " '/tmp/transactions_2020_07_01__2020_09_01_000000000019',\n",
              " '/tmp/transactions_2020_07_01__2020_09_01_000000000020',\n",
              " '/tmp/transactions_2020_07_01__2020_09_01_000000000021',\n",
              " '/tmp/transactions_2020_07_01__2020_09_01_000000000022',\n",
              " '/tmp/transactions_2020_07_01__2020_09_01_000000000023',\n",
              " '/tmp/transactions_2020_07_01__2020_09_01_000000000024',\n",
              " '/tmp/transactions_2020_07_01__2020_09_01_000000000025',\n",
              " '/tmp/transactions_2020_07_01__2020_09_01_000000000026',\n",
              " '/tmp/transactions_2020_07_01__2020_09_01_000000000027',\n",
              " '/tmp/transactions_2020_07_01__2020_09_01_000000000028',\n",
              " '/tmp/transactions_2020_07_01__2020_09_01_000000000029',\n",
              " '/tmp/transactions_2020_07_01__2020_09_01_000000000030',\n",
              " '/tmp/transactions_2020_07_01__2020_09_01_000000000031',\n",
              " '/tmp/transactions_2020_07_01__2020_09_01_000000000032',\n",
              " '/tmp/transactions_2020_11_01__2021_01_01_000000000000',\n",
              " '/tmp/transactions_2020_11_01__2021_01_01_000000000001',\n",
              " '/tmp/transactions_2020_11_01__2021_01_01_000000000002',\n",
              " '/tmp/transactions_2020_11_01__2021_01_01_000000000003',\n",
              " '/tmp/transactions_2020_11_01__2021_01_01_000000000004',\n",
              " '/tmp/transactions_2020_11_01__2021_01_01_000000000005',\n",
              " '/tmp/transactions_2020_11_01__2021_01_01_000000000006',\n",
              " '/tmp/transactions_2020_11_01__2021_01_01_000000000007',\n",
              " '/tmp/transactions_2020_11_01__2021_01_01_000000000008',\n",
              " '/tmp/transactions_2020_11_01__2021_01_01_000000000009',\n",
              " '/tmp/transactions_2020_11_01__2021_01_01_000000000010',\n",
              " '/tmp/transactions_2020_11_01__2021_01_01_000000000011',\n",
              " '/tmp/transactions_2020_11_01__2021_01_01_000000000012',\n",
              " '/tmp/transactions_2020_11_01__2021_01_01_000000000013',\n",
              " '/tmp/transactions_2020_11_01__2021_01_01_000000000014',\n",
              " '/tmp/transactions_2020_11_01__2021_01_01_000000000015',\n",
              " '/tmp/transactions_2020_11_01__2021_01_01_000000000016',\n",
              " '/tmp/transactions_2020_11_01__2021_01_01_000000000017',\n",
              " '/tmp/transactions_2020_11_01__2021_01_01_000000000018',\n",
              " '/tmp/transactions_2020_11_01__2021_01_01_000000000019',\n",
              " '/tmp/transactions_2020_11_01__2021_01_01_000000000020',\n",
              " '/tmp/transactions_2020_11_01__2021_01_01_000000000021',\n",
              " '/tmp/transactions_2020_11_01__2021_01_01_000000000022',\n",
              " '/tmp/transactions_2020_11_01__2021_01_01_000000000023',\n",
              " '/tmp/transactions_2020_11_01__2021_01_01_000000000024',\n",
              " '/tmp/transactions_2020_11_01__2021_01_01_000000000025',\n",
              " '/tmp/transactions_2020_11_01__2021_01_01_000000000026',\n",
              " '/tmp/transactions_2020_11_01__2021_01_01_000000000027',\n",
              " '/tmp/transactions_2020_11_01__2021_01_01_000000000028',\n",
              " '/tmp/transactions_2020_11_01__2021_01_01_000000000029',\n",
              " '/tmp/transactions_2020_11_01__2021_01_01_000000000030',\n",
              " '/tmp/transactions_2020_11_01__2021_01_01_000000000031',\n",
              " '/tmp/transactions_2020_11_01__2021_01_01_000000000032']"
            ]
          },
          "metadata": {
            "tags": []
          },
          "execution_count": 74
        }
      ]
    },
    {
      "cell_type": "code",
      "metadata": {
        "id": "KwykmzCqW6uE"
      },
      "source": [
        "dfTransactions = reduce(lambda x,y: x.unionAll(y), \n",
        "            [spark.read.format('com.databricks.spark.csv')\n",
        "                       .load(f, header=\"true\", inferSchema=\"true\") \n",
        "             for f in transactions])"
      ],
      "execution_count": 75,
      "outputs": []
    },
    {
      "cell_type": "code",
      "metadata": {
        "colab": {
          "base_uri": "https://localhost:8080/"
        },
        "id": "JBI-L5jhXSwZ",
        "outputId": "fa06e7e3-acbf-46dc-d01d-c5a2141abaf0"
      },
      "source": [
        "dfTransactions.createOrReplaceTempView(\"transactions\")\n",
        "spark.sql(\"SELECT COUNT(*) FROM transactions\").show()"
      ],
      "execution_count": 76,
      "outputs": [
        {
          "output_type": "stream",
          "text": [
            "+---------+\n",
            "| count(1)|\n",
            "+---------+\n",
            "|221484978|\n",
            "+---------+\n",
            "\n"
          ],
          "name": "stdout"
        }
      ]
    },
    {
      "cell_type": "code",
      "metadata": {
        "colab": {
          "base_uri": "https://localhost:8080/"
        },
        "id": "6sh89EUOtZEU",
        "outputId": "3ad9bd38-ac21-4e7d-a3e9-fc07a7e449c9"
      },
      "source": [
        "dfContracts.printSchema()"
      ],
      "execution_count": 77,
      "outputs": [
        {
          "output_type": "stream",
          "text": [
            "root\n",
            " |-- address: string (nullable = true)\n",
            " |-- bytecode: string (nullable = true)\n",
            " |-- is_erc20: boolean (nullable = true)\n",
            " |-- is_erc721: boolean (nullable = true)\n",
            " |-- block_timestamp: string (nullable = true)\n",
            " |-- block_number: integer (nullable = true)\n",
            "\n"
          ],
          "name": "stdout"
        }
      ]
    },
    {
      "cell_type": "code",
      "metadata": {
        "colab": {
          "base_uri": "https://localhost:8080/"
        },
        "id": "V0VQ3_bzti4E",
        "outputId": "1fffd321-4ceb-4064-8e59-d5d5f1ba728b"
      },
      "source": [
        "dfTransactions.printSchema()"
      ],
      "execution_count": 78,
      "outputs": [
        {
          "output_type": "stream",
          "text": [
            "root\n",
            " |-- hash: string (nullable = true)\n",
            " |-- nonce: integer (nullable = true)\n",
            " |-- transaction_index: integer (nullable = true)\n",
            " |-- from_address: string (nullable = true)\n",
            " |-- to_address: string (nullable = true)\n",
            " |-- value: decimal(24,0) (nullable = true)\n",
            " |-- gas: integer (nullable = true)\n",
            " |-- gas_price: long (nullable = true)\n",
            " |-- receipt_cumulative_gas_used: integer (nullable = true)\n",
            " |-- receipt_gas_used: integer (nullable = true)\n",
            " |-- receipt_contract_address: string (nullable = true)\n",
            " |-- receipt_root: string (nullable = true)\n",
            " |-- receipt_status: integer (nullable = true)\n",
            " |-- block_timestamp: string (nullable = true)\n",
            " |-- block_number: integer (nullable = true)\n",
            "\n"
          ],
          "name": "stdout"
        }
      ]
    }
  ]
}