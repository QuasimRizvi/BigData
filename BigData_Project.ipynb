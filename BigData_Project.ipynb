{
  "nbformat": 4,
  "nbformat_minor": 0,
  "metadata": {
    "colab": {
      "name": "BigData-Project.ipynb",
      "provenance": [],
      "collapsed_sections": [],
      "authorship_tag": "ABX9TyNxefuzy5AmWsDkle1+aIIz",
      "include_colab_link": true
    },
    "kernelspec": {
      "name": "python3",
      "display_name": "Python 3"
    },
    "language_info": {
      "name": "python"
    }
  },
  "cells": [
    {
      "cell_type": "markdown",
      "metadata": {
        "id": "view-in-github",
        "colab_type": "text"
      },
      "source": [
        "<a href=\"https://colab.research.google.com/github/QuasimRizvi/BigData/blob/main/BigData_Project.ipynb\" target=\"_parent\"><img src=\"https://colab.research.google.com/assets/colab-badge.svg\" alt=\"Open In Colab\"/></a>"
      ]
    },
    {
      "cell_type": "code",
      "metadata": {
        "id": "rO50ao4Hv0tX"
      },
      "source": [
        "!apt-get install openjdk-8-jdk-headless -qq > /dev/null"
      ],
      "execution_count": null,
      "outputs": []
    },
    {
      "cell_type": "code",
      "metadata": {
        "id": "7ap1iAUyv3uI"
      },
      "source": [
        "!wget -q https://downloads.apache.org/spark/spark-3.1.1/spark-3.1.1-bin-hadoop2.7.tgz"
      ],
      "execution_count": null,
      "outputs": []
    },
    {
      "cell_type": "code",
      "metadata": {
        "id": "w83wh8Jwv_Lt"
      },
      "source": [
        "!tar xf spark-3.1.1-bin-hadoop2.7.tgz"
      ],
      "execution_count": null,
      "outputs": []
    },
    {
      "cell_type": "code",
      "metadata": {
        "id": "ShDXvd_qwHXx"
      },
      "source": [
        "!pip install -q findspark"
      ],
      "execution_count": null,
      "outputs": []
    },
    {
      "cell_type": "code",
      "metadata": {
        "id": "Yu9OvQ0YwLZv"
      },
      "source": [
        "import os\n",
        "os.environ[\"JAVA_HOME\"] = \"/usr/lib/jvm/java-8-openjdk-amd64\"\n",
        "os.environ[\"SPARK_HOME\"] = \"/content/spark-3.1.1-bin-hadoop2.7\""
      ],
      "execution_count": null,
      "outputs": []
    },
    {
      "cell_type": "code",
      "metadata": {
        "id": "2UgebYA8wQZe"
      },
      "source": [
        "import findspark\n",
        "findspark.init()"
      ],
      "execution_count": null,
      "outputs": []
    },
    {
      "cell_type": "code",
      "metadata": {
        "colab": {
          "base_uri": "https://localhost:8080/",
          "height": 35
        },
        "id": "zR_-TA-KwV5d",
        "outputId": "4e509fbb-6e4a-486c-b4fe-a515aa814a1a"
      },
      "source": [
        "findspark.find()"
      ],
      "execution_count": null,
      "outputs": [
        {
          "output_type": "execute_result",
          "data": {
            "application/vnd.google.colaboratory.intrinsic+json": {
              "type": "string"
            },
            "text/plain": [
              "'/content/spark-3.1.1-bin-hadoop2.7'"
            ]
          },
          "metadata": {
            "tags": []
          },
          "execution_count": 8
        }
      ]
    },
    {
      "cell_type": "code",
      "metadata": {
        "colab": {
          "base_uri": "https://localhost:8080/"
        },
        "id": "Y0o5xiTdwaIO",
        "outputId": "5f616ca3-49cd-4ff4-f84e-b499e99f79c8"
      },
      "source": [
        "!wget https://bin.equinox.io/c/4VmDzA7iaHb/ngrok-stable-linux-amd64.zip\n",
        "!unzip -y ngrok-stable-linux-amd64.zip\n",
        "get_ipython().system_raw('./ngrok http 4050 &')\n",
        "!curl -s http://localhost:4040/api/tunnels"
      ],
      "execution_count": null,
      "outputs": [
        {
          "output_type": "stream",
          "text": [
            "--2021-03-31 01:32:22--  https://bin.equinox.io/c/4VmDzA7iaHb/ngrok-stable-linux-amd64.zip\n",
            "Resolving bin.equinox.io (bin.equinox.io)... 18.205.129.29, 3.225.89.236, 54.226.184.31, ...\n",
            "Connecting to bin.equinox.io (bin.equinox.io)|18.205.129.29|:443... connected.\n",
            "HTTP request sent, awaiting response... 200 OK\n",
            "Length: 14746350 (14M) [application/octet-stream]\n",
            "Saving to: ‘ngrok-stable-linux-amd64.zip.1’\n",
            "\n",
            "ngrok-stable-linux- 100%[===================>]  14.06M  63.7MB/s    in 0.2s    \n",
            "\n",
            "2021-03-31 01:32:22 (63.7 MB/s) - ‘ngrok-stable-linux-amd64.zip.1’ saved [14746350/14746350]\n",
            "\n",
            "UnZip 6.00 of 20 April 2009, by Debian. Original by Info-ZIP.\n",
            "\n",
            "Usage: unzip [-Z] [-opts[modifiers]] file[.zip] [list] [-x xlist] [-d exdir]\n",
            "  Default action is to extract files in list, except those in xlist, to exdir;\n",
            "  file[.zip] may be a wildcard.  -Z => ZipInfo mode (\"unzip -Z\" for usage).\n",
            "\n",
            "  -p  extract files to pipe, no messages     -l  list files (short format)\n",
            "  -f  freshen existing files, create none    -t  test compressed archive data\n",
            "  -u  update files, create if necessary      -z  display archive comment only\n",
            "  -v  list verbosely/show version info       -T  timestamp archive to latest\n",
            "  -x  exclude files that follow (in xlist)   -d  extract files into exdir\n",
            "modifiers:\n",
            "  -n  never overwrite existing files         -q  quiet mode (-qq => quieter)\n",
            "  -o  overwrite files WITHOUT prompting      -a  auto-convert any text files\n",
            "  -j  junk paths (do not make directories)   -aa treat ALL files as text\n",
            "  -U  use escapes for all non-ASCII Unicode  -UU ignore any Unicode fields\n",
            "  -C  match filenames case-insensitively     -L  make (some) names lowercase\n",
            "  -X  restore UID/GID info                   -V  retain VMS version numbers\n",
            "  -K  keep setuid/setgid/tacky permissions   -M  pipe through \"more\" pager\n",
            "  -O CHARSET  specify a character encoding for DOS, Windows and OS/2 archives\n",
            "  -I CHARSET  specify a character encoding for UNIX and other archives\n",
            "\n",
            "See \"unzip -hh\" or unzip.txt for more help.  Examples:\n",
            "  unzip data1 -x joe   => extract all files except joe from zipfile data1.zip\n",
            "  unzip -p foo | more  => send contents of foo.zip via pipe into program more\n",
            "  unzip -fo foo ReadMe => quietly replace existing ReadMe if archive file newer\n"
          ],
          "name": "stdout"
        }
      ]
    },
    {
      "cell_type": "code",
      "metadata": {
        "colab": {
          "base_uri": "https://localhost:8080/"
        },
        "id": "qzGWcw5dxIRY",
        "outputId": "6b6fea30-c4fe-4a1c-c08a-7de08fcf3783"
      },
      "source": [
        "ls"
      ],
      "execution_count": null,
      "outputs": [
        {
          "output_type": "stream",
          "text": [
            "adc.json                        \u001b[0m\u001b[01;34mspark-3.1.1-bin-hadoop2.7\u001b[0m/\n",
            "ngrok-stable-linux-amd64.zip    spark-3.1.1-bin-hadoop2.7.tgz\n",
            "ngrok-stable-linux-amd64.zip.1  spark-3.1.1-bin-hadoop2.7.tgz.1\n",
            "\u001b[01;34msample_data\u001b[0m/\n"
          ],
          "name": "stdout"
        }
      ]
    },
    {
      "cell_type": "code",
      "metadata": {
        "id": "_bObzKhDxRkQ"
      },
      "source": [
        "from pyspark import SparkContext,SparkConf\n",
        "from pyspark.sql import SparkSession\n",
        "import pyspark\n",
        "conf = pyspark.SparkConf()\n",
        "conf.set(\"spark.driver.memory\",\"8G\");\n",
        "import numpy as np\n",
        "sc = SparkContext.getOrCreate(conf=conf)\n",
        "from pyspark.sql.functions import round, col"
      ],
      "execution_count": null,
      "outputs": []
    },
    {
      "cell_type": "code",
      "metadata": {
        "id": "nfbqllwrxobF"
      },
      "source": [
        "project_id = 'api3-307502'"
      ],
      "execution_count": null,
      "outputs": []
    },
    {
      "cell_type": "code",
      "metadata": {
        "id": "EOxslvMwzZ9q"
      },
      "source": [
        "from google.colab import auth\n",
        "auth.authenticate_user()"
      ],
      "execution_count": null,
      "outputs": []
    },
    {
      "cell_type": "code",
      "metadata": {
        "colab": {
          "base_uri": "https://localhost:8080/"
        },
        "id": "emLWG3JUzi9E",
        "outputId": "c46b3f60-aa57-4723-c252-cea5a07e2847"
      },
      "source": [
        "!gcloud config set project {project_id}"
      ],
      "execution_count": null,
      "outputs": [
        {
          "output_type": "stream",
          "text": [
            "Updated property [core/project].\n"
          ],
          "name": "stdout"
        }
      ]
    },
    {
      "cell_type": "code",
      "metadata": {
        "colab": {
          "base_uri": "https://localhost:8080/"
        },
        "id": "clr2KAViz9Pm",
        "outputId": "83ede534-e5d0-45f7-af82-80ef47a2be43"
      },
      "source": [
        "!gsutil cp gs://ethereum-bigdata/contracts* /tmp/"
      ],
      "execution_count": null,
      "outputs": [
        {
          "output_type": "stream",
          "text": [
            "Copying gs://ethereum-bigdata/contracts000000000000...\n",
            "Copying gs://ethereum-bigdata/contracts000000000001...\n",
            "Copying gs://ethereum-bigdata/contracts000000000002...\n",
            "Copying gs://ethereum-bigdata/contracts000000000003...\n",
            "\\ [4 files][  2.0 GiB/  2.0 GiB]   15.9 MiB/s                                   \n",
            "==> NOTE: You are performing a sequence of gsutil operations that may\n",
            "run significantly faster if you instead use gsutil -m cp ... Please\n",
            "see the -m section under \"gsutil help options\" for further information\n",
            "about when gsutil -m can be advantageous.\n",
            "\n",
            "Copying gs://ethereum-bigdata/contracts000000000004...\n",
            "Copying gs://ethereum-bigdata/contracts000000000005...\n",
            "Copying gs://ethereum-bigdata/contracts000000000006...\n",
            "Copying gs://ethereum-bigdata/contracts000000000007...\n",
            "Copying gs://ethereum-bigdata/contracts000000000008...\n",
            "Copying gs://ethereum-bigdata/contracts000000000009...\n",
            "Copying gs://ethereum-bigdata/contracts000000000010...\n",
            "Copying gs://ethereum-bigdata/contracts000000000011...\n",
            "\\ [12 files][  5.9 GiB/  5.9 GiB]   51.5 MiB/s                                  \n",
            "Operation completed over 12 objects/5.9 GiB.                                     \n"
          ],
          "name": "stdout"
        }
      ]
    },
    {
      "cell_type": "code",
      "metadata": {
        "id": "MIFgNsqf2Rai"
      },
      "source": [
        "spark = SparkSession(sc)"
      ],
      "execution_count": null,
      "outputs": []
    },
    {
      "cell_type": "code",
      "metadata": {
        "id": "f0UpvHbm5F2H"
      },
      "source": [
        "transactions000000000000_df = spark.read.format('csv').options(header='true').load('/tmp/transactions000000000000.csv')"
      ],
      "execution_count": null,
      "outputs": []
    },
    {
      "cell_type": "code",
      "metadata": {
        "colab": {
          "base_uri": "https://localhost:8080/"
        },
        "id": "Vyxb0HL95VVL",
        "outputId": "982dd0a4-e92c-4ddd-bb30-04e2a19d41c1"
      },
      "source": [
        "transactions000000000000_df.printSchema()"
      ],
      "execution_count": null,
      "outputs": [
        {
          "output_type": "stream",
          "text": [
            "root\n",
            " |-- hash: string (nullable = true)\n",
            " |-- nonce: string (nullable = true)\n",
            " |-- transaction_index: string (nullable = true)\n",
            " |-- from_address: string (nullable = true)\n",
            " |-- to_address: string (nullable = true)\n",
            " |-- value: string (nullable = true)\n",
            " |-- gas: string (nullable = true)\n",
            " |-- gas_price: string (nullable = true)\n",
            " |-- input: string (nullable = true)\n",
            " |-- receipt_cumulative_gas_used: string (nullable = true)\n",
            " |-- receipt_gas_used: string (nullable = true)\n",
            " |-- receipt_contract_address: string (nullable = true)\n",
            " |-- receipt_root: string (nullable = true)\n",
            " |-- receipt_status: string (nullable = true)\n",
            " |-- block_timestamp: string (nullable = true)\n",
            " |-- block_number: string (nullable = true)\n",
            " |-- block_hash: string (nullable = true)\n",
            "\n"
          ],
          "name": "stdout"
        }
      ]
    },
    {
      "cell_type": "code",
      "metadata": {
        "id": "eo8ocLiQ7psx"
      },
      "source": [
        "contracts_df = spark.read.format('csv').options(header='true').load('/tmp/contracts.csv')"
      ],
      "execution_count": null,
      "outputs": []
    },
    {
      "cell_type": "code",
      "metadata": {
        "colab": {
          "base_uri": "https://localhost:8080/"
        },
        "id": "AIF2iUGf8CO3",
        "outputId": "6f81d41c-3837-44e6-ba48-43be00dfcd69"
      },
      "source": [
        "contracts_df.printSchema()"
      ],
      "execution_count": null,
      "outputs": [
        {
          "output_type": "stream",
          "text": [
            "root\n",
            " |-- address: string (nullable = true)\n",
            " |-- bytecode: string (nullable = true)\n",
            " |-- is_erc20: string (nullable = true)\n",
            " |-- is_erc721: string (nullable = true)\n",
            " |-- block_timestamp: string (nullable = true)\n",
            " |-- block_number: string (nullable = true)\n",
            " |-- block_hash: string (nullable = true)\n",
            "\n"
          ],
          "name": "stdout"
        }
      ]
    },
    {
      "cell_type": "code",
      "metadata": {
        "colab": {
          "base_uri": "https://localhost:8080/"
        },
        "id": "o8RuIPHb8SjZ",
        "outputId": "a9f466cd-dbe5-41c5-d712-5419996adb5a"
      },
      "source": [
        "transactions000000000000_df.show(1)"
      ],
      "execution_count": null,
      "outputs": [
        {
          "output_type": "stream",
          "text": [
            "+--------------------+-----+-----------------+--------------------+--------------------+-----+-----+------------+--------------------+---------------------------+----------------+------------------------+------------+--------------+--------------------+------------+--------------------+\n",
            "|                hash|nonce|transaction_index|        from_address|          to_address|value|  gas|   gas_price|               input|receipt_cumulative_gas_used|receipt_gas_used|receipt_contract_address|receipt_root|receipt_status|     block_timestamp|block_number|          block_hash|\n",
            "+--------------------+-----+-----------------+--------------------+--------------------+-----+-----+------------+--------------------+---------------------------+----------------+------------------------+------------+--------------+--------------------+------------+--------------------+\n",
            "|0x1a5bbbd3fae1bbc...|  207|              153|0x19c8df7808a38ff...|0xdac17f958d2ee52...|    0|60000|132000001459|0xa9059cbb0000000...|                    8385219|           41197|                    null|        null|             1|2020-08-18 06:42:...|    10682411|0xd09c6184e1e6f4c...|\n",
            "+--------------------+-----+-----------------+--------------------+--------------------+-----+-----+------------+--------------------+---------------------------+----------------+------------------------+------------+--------------+--------------------+------------+--------------------+\n",
            "only showing top 1 row\n",
            "\n"
          ],
          "name": "stdout"
        }
      ]
    },
    {
      "cell_type": "code",
      "metadata": {
        "id": "u5x1G_z394Zu"
      },
      "source": [
        "contracts = os.listdir('/tmp')"
      ],
      "execution_count": null,
      "outputs": []
    },
    {
      "cell_type": "code",
      "metadata": {
        "colab": {
          "base_uri": "https://localhost:8080/"
        },
        "id": "Xzv1P7tiArx5",
        "outputId": "a093edfa-d40c-4b2b-90c6-f348ca5dfffd"
      },
      "source": [
        "contracts = [\"/tmp/\" +x for x in contracts if \"contracts00\" in x]\n",
        "contracts"
      ],
      "execution_count": null,
      "outputs": [
        {
          "output_type": "execute_result",
          "data": {
            "text/plain": [
              "['/tmp/contracts000000000000',\n",
              " '/tmp/contracts000000000003',\n",
              " '/tmp/contracts000000000002',\n",
              " '/tmp/contracts000000000007',\n",
              " '/tmp/contracts000000000011',\n",
              " '/tmp/contracts000000000008',\n",
              " '/tmp/contracts000000000001',\n",
              " '/tmp/contracts000000000005',\n",
              " '/tmp/contracts000000000006',\n",
              " '/tmp/contracts000000000009',\n",
              " '/tmp/contracts000000000004',\n",
              " '/tmp/contracts000000000010']"
            ]
          },
          "metadata": {
            "tags": []
          },
          "execution_count": 32
        }
      ]
    },
    {
      "cell_type": "code",
      "metadata": {
        "id": "kI_9CM76AtJZ"
      },
      "source": [
        "from functools import reduce\n",
        "dfContracts = reduce(lambda x,y: x.unionAll(y), \n",
        "            [spark.read.format('com.databricks.spark.csv')\n",
        "                       .load(f, header=\"true\", inferSchema=\"true\") \n",
        "             for f in contracts])"
      ],
      "execution_count": null,
      "outputs": []
    },
    {
      "cell_type": "code",
      "metadata": {
        "colab": {
          "base_uri": "https://localhost:8080/"
        },
        "id": "jf3C9eE3CrTr",
        "outputId": "ca9293d8-9831-4ff2-b561-76d8186788c0"
      },
      "source": [
        "dfContracts.printSchema()"
      ],
      "execution_count": null,
      "outputs": [
        {
          "output_type": "stream",
          "text": [
            "root\n",
            " |-- address: string (nullable = true)\n",
            " |-- bytecode: string (nullable = true)\n",
            " |-- is_erc20: boolean (nullable = true)\n",
            " |-- is_erc721: boolean (nullable = true)\n",
            " |-- block_timestamp: string (nullable = true)\n",
            " |-- block_number: integer (nullable = true)\n",
            " |-- block_hash: string (nullable = true)\n",
            "\n"
          ],
          "name": "stdout"
        }
      ]
    },
    {
      "cell_type": "code",
      "metadata": {
        "id": "J9gwVTYHCupA"
      },
      "source": [
        "dfContracts.createOrReplaceTempView(\"contracts\")"
      ],
      "execution_count": null,
      "outputs": []
    },
    {
      "cell_type": "code",
      "metadata": {
        "colab": {
          "base_uri": "https://localhost:8080/"
        },
        "id": "MLe4zBz-DCA1",
        "outputId": "2bb8c055-7069-4d79-a3a9-4bbd84ad533c"
      },
      "source": [
        "spark.sql(\"Select COUNT(*) FROM contracts\").show()"
      ],
      "execution_count": null,
      "outputs": [
        {
          "output_type": "stream",
          "text": [
            "+--------+\n",
            "|count(1)|\n",
            "+--------+\n",
            "| 9294164|\n",
            "+--------+\n",
            "\n"
          ],
          "name": "stdout"
        }
      ]
    },
    {
      "cell_type": "code",
      "metadata": {
        "id": "BeTe2pEMDPUV"
      },
      "source": [
        "contracts_df.createOrReplaceTempView(\"contractsog\")"
      ],
      "execution_count": null,
      "outputs": []
    },
    {
      "cell_type": "code",
      "metadata": {
        "colab": {
          "base_uri": "https://localhost:8080/"
        },
        "id": "k_O6oCLbDxDQ",
        "outputId": "d6f529c4-9a41-43bd-8f1c-8bcbbeecfa73"
      },
      "source": [
        "spark.sql(\"SELECT COUNT(*) FROM contractsog\").show()"
      ],
      "execution_count": null,
      "outputs": [
        {
          "output_type": "stream",
          "text": [
            "+--------+\n",
            "|count(1)|\n",
            "+--------+\n",
            "|10068122|\n",
            "+--------+\n",
            "\n"
          ],
          "name": "stdout"
        }
      ]
    },
    {
      "cell_type": "code",
      "metadata": {
        "id": "_q8BgnCDD2iG",
        "colab": {
          "base_uri": "https://localhost:8080/"
        },
        "outputId": "02b93cb2-9683-45ab-e795-37f832927dad"
      },
      "source": [
        "ls"
      ],
      "execution_count": 44,
      "outputs": [
        {
          "output_type": "stream",
          "text": [
            "adc.json  \u001b[0m\u001b[01;34msample_data\u001b[0m/  \u001b[01;34mspark-3.1.1-bin-hadoop2.7\u001b[0m/\n"
          ],
          "name": "stdout"
        }
      ]
    },
    {
      "cell_type": "code",
      "metadata": {
        "id": "KwykmzCqW6uE"
      },
      "source": [
        ""
      ],
      "execution_count": null,
      "outputs": []
    }
  ]
}