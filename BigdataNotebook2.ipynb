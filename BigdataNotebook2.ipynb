{
  "nbformat": 4,
  "nbformat_minor": 0,
  "metadata": {
    "colab": {
      "name": "BigdataNotebook2.ipynb",
      "provenance": [],
      "include_colab_link": true
    },
    "kernelspec": {
      "name": "python3",
      "display_name": "Python 3"
    },
    "language_info": {
      "name": "python"
    }
  },
  "cells": [
    {
      "cell_type": "markdown",
      "metadata": {
        "id": "view-in-github",
        "colab_type": "text"
      },
      "source": [
        "<a href=\"https://colab.research.google.com/github/QuasimRizvi/BigData/blob/main/BigdataNotebook2.ipynb\" target=\"_parent\"><img src=\"https://colab.research.google.com/assets/colab-badge.svg\" alt=\"Open In Colab\"/></a>"
      ]
    },
    {
      "cell_type": "code",
      "metadata": {
        "id": "hySevP4B12vw"
      },
      "source": [
        "!apt-get install openjdk-8-jdk-headless -qq > /dev/null"
      ],
      "execution_count": 1,
      "outputs": []
    },
    {
      "cell_type": "code",
      "metadata": {
        "id": "HOWivR3f4Ly0"
      },
      "source": [
        "!wget -q https://downloads.apache.org/spark/spark-3.1.1/spark-3.1.1-bin-hadoop2.7.tgz"
      ],
      "execution_count": 2,
      "outputs": []
    },
    {
      "cell_type": "code",
      "metadata": {
        "id": "YBPeVmI86NKx"
      },
      "source": [
        "!tar xf spark-3.1.1-bin-hadoop2.7.tgz"
      ],
      "execution_count": 3,
      "outputs": []
    },
    {
      "cell_type": "code",
      "metadata": {
        "id": "NJ4gRjM66REF"
      },
      "source": [
        "!pip install -q findspark"
      ],
      "execution_count": 4,
      "outputs": []
    },
    {
      "cell_type": "code",
      "metadata": {
        "id": "vNm5VI726cqo"
      },
      "source": [
        "import os\n",
        "os.environ[\"JAVA_HOME\"] = \"/usr/lib/jvm/java-8-openjdk-amd64\"\n",
        "os.environ[\"SPARK_HOME\"] = \"/content/spark-3.1.1-bin-hadoop2.7\""
      ],
      "execution_count": 5,
      "outputs": []
    },
    {
      "cell_type": "code",
      "metadata": {
        "id": "zjKKHyWk6sA2"
      },
      "source": [
        "import findspark\n",
        "findspark.init()"
      ],
      "execution_count": 6,
      "outputs": []
    },
    {
      "cell_type": "code",
      "metadata": {
        "colab": {
          "base_uri": "https://localhost:8080/",
          "height": 35
        },
        "id": "N37tVifh6uIA",
        "outputId": "99ca256e-faff-4f69-d320-b1ac50e83459"
      },
      "source": [
        "findspark.find()"
      ],
      "execution_count": 7,
      "outputs": [
        {
          "output_type": "execute_result",
          "data": {
            "application/vnd.google.colaboratory.intrinsic+json": {
              "type": "string"
            },
            "text/plain": [
              "'/content/spark-3.1.1-bin-hadoop2.7'"
            ]
          },
          "metadata": {
            "tags": []
          },
          "execution_count": 7
        }
      ]
    },
    {
      "cell_type": "code",
      "metadata": {
        "colab": {
          "base_uri": "https://localhost:8080/"
        },
        "id": "sT7VqRJp6vRZ",
        "outputId": "79ccf884-ca36-48e8-ebcf-c0130c5a2868"
      },
      "source": [
        "!wget https://bin.equinox.io/c/4VmDzA7iaHb/ngrok-stable-linux-amd64.zip\n",
        "!unzip -y ngrok-stable-linux-amd64.zip\n",
        "get_ipython().system_raw('./ngrok http 4050 &')\n",
        "!curl -s http://localhost:4040/api/tunnels"
      ],
      "execution_count": 8,
      "outputs": [
        {
          "output_type": "stream",
          "text": [
            "--2021-03-31 15:33:34--  https://bin.equinox.io/c/4VmDzA7iaHb/ngrok-stable-linux-amd64.zip\n",
            "Resolving bin.equinox.io (bin.equinox.io)... 34.198.117.197, 174.129.26.222, 35.175.47.233, ...\n",
            "Connecting to bin.equinox.io (bin.equinox.io)|34.198.117.197|:443... connected.\n",
            "HTTP request sent, awaiting response... 200 OK\n",
            "Length: 14746350 (14M) [application/octet-stream]\n",
            "Saving to: ‘ngrok-stable-linux-amd64.zip’\n",
            "\n",
            "ngrok-stable-linux- 100%[===================>]  14.06M  44.0MB/s    in 0.3s    \n",
            "\n",
            "2021-03-31 15:33:35 (44.0 MB/s) - ‘ngrok-stable-linux-amd64.zip’ saved [14746350/14746350]\n",
            "\n",
            "UnZip 6.00 of 20 April 2009, by Debian. Original by Info-ZIP.\n",
            "\n",
            "Usage: unzip [-Z] [-opts[modifiers]] file[.zip] [list] [-x xlist] [-d exdir]\n",
            "  Default action is to extract files in list, except those in xlist, to exdir;\n",
            "  file[.zip] may be a wildcard.  -Z => ZipInfo mode (\"unzip -Z\" for usage).\n",
            "\n",
            "  -p  extract files to pipe, no messages     -l  list files (short format)\n",
            "  -f  freshen existing files, create none    -t  test compressed archive data\n",
            "  -u  update files, create if necessary      -z  display archive comment only\n",
            "  -v  list verbosely/show version info       -T  timestamp archive to latest\n",
            "  -x  exclude files that follow (in xlist)   -d  extract files into exdir\n",
            "modifiers:\n",
            "  -n  never overwrite existing files         -q  quiet mode (-qq => quieter)\n",
            "  -o  overwrite files WITHOUT prompting      -a  auto-convert any text files\n",
            "  -j  junk paths (do not make directories)   -aa treat ALL files as text\n",
            "  -U  use escapes for all non-ASCII Unicode  -UU ignore any Unicode fields\n",
            "  -C  match filenames case-insensitively     -L  make (some) names lowercase\n",
            "  -X  restore UID/GID info                   -V  retain VMS version numbers\n",
            "  -K  keep setuid/setgid/tacky permissions   -M  pipe through \"more\" pager\n",
            "  -O CHARSET  specify a character encoding for DOS, Windows and OS/2 archives\n",
            "  -I CHARSET  specify a character encoding for UNIX and other archives\n",
            "\n",
            "See \"unzip -hh\" or unzip.txt for more help.  Examples:\n",
            "  unzip data1 -x joe   => extract all files except joe from zipfile data1.zip\n",
            "  unzip -p foo | more  => send contents of foo.zip via pipe into program more\n",
            "  unzip -fo foo ReadMe => quietly replace existing ReadMe if archive file newer\n"
          ],
          "name": "stdout"
        }
      ]
    },
    {
      "cell_type": "code",
      "metadata": {
        "colab": {
          "base_uri": "https://localhost:8080/"
        },
        "id": "oDWtKXgy6yCS",
        "outputId": "ef6211f6-6371-4b93-8753-76bb90546501"
      },
      "source": [
        "ls"
      ],
      "execution_count": 9,
      "outputs": [
        {
          "output_type": "stream",
          "text": [
            "ngrok-stable-linux-amd64.zip  \u001b[0m\u001b[01;34mspark-3.1.1-bin-hadoop2.7\u001b[0m/\n",
            "\u001b[01;34msample_data\u001b[0m/                  spark-3.1.1-bin-hadoop2.7.tgz\n"
          ],
          "name": "stdout"
        }
      ]
    },
    {
      "cell_type": "code",
      "metadata": {
        "id": "L_bK4PcF60nG"
      },
      "source": [
        "from pyspark import SparkContext,SparkConf\n",
        "from pyspark.sql import SparkSession\n",
        "import pyspark\n",
        "conf = pyspark.SparkConf()\n",
        "conf.set(\"spark.driver.memory\",\"8G\");\n",
        "import numpy as np\n",
        "sc = SparkContext.getOrCreate(conf=conf)\n",
        "from pyspark.sql.functions import round, col"
      ],
      "execution_count": 10,
      "outputs": []
    },
    {
      "cell_type": "code",
      "metadata": {
        "id": "WhCL-cnB66En"
      },
      "source": [
        "project_id = 'api3-307502'"
      ],
      "execution_count": 11,
      "outputs": []
    },
    {
      "cell_type": "code",
      "metadata": {
        "id": "m33zTRRW69P4"
      },
      "source": [
        "from google.colab import auth\n",
        "auth.authenticate_user()"
      ],
      "execution_count": 12,
      "outputs": []
    },
    {
      "cell_type": "code",
      "metadata": {
        "colab": {
          "base_uri": "https://localhost:8080/"
        },
        "id": "jF49lb0B6_yZ",
        "outputId": "b31cceb8-9ef7-41ea-8bd3-e17bec79761f"
      },
      "source": [
        "!gcloud config set project {project_id}"
      ],
      "execution_count": 13,
      "outputs": [
        {
          "output_type": "stream",
          "text": [
            "Updated property [core/project].\n"
          ],
          "name": "stdout"
        }
      ]
    },
    {
      "cell_type": "code",
      "metadata": {
        "colab": {
          "base_uri": "https://localhost:8080/"
        },
        "id": "2lL18hf67GrM",
        "outputId": "c0e726bd-3422-4180-f58a-9be1e5962960"
      },
      "source": [
        "!gsutil cp gs://ethereum-bigdata/token_transfer* /tmp/"
      ],
      "execution_count": 14,
      "outputs": [
        {
          "output_type": "stream",
          "text": [
            "Copying gs://ethereum-bigdata/token_transfer_2019_11_01__2020_01_01_000000000000...\n",
            "Copying gs://ethereum-bigdata/token_transfer_2019_11_01__2020_01_01_000000000001...\n",
            "Copying gs://ethereum-bigdata/token_transfer_2019_11_01__2020_01_01_000000000002...\n",
            "Copying gs://ethereum-bigdata/token_transfer_2019_11_01__2020_01_01_000000000003...\n",
            "- [4 files][  2.0 GiB/  2.0 GiB]   58.3 MiB/s                                   \n",
            "==> NOTE: You are performing a sequence of gsutil operations that may\n",
            "run significantly faster if you instead use gsutil -m cp ... Please\n",
            "see the -m section under \"gsutil help options\" for further information\n",
            "about when gsutil -m can be advantageous.\n",
            "\n",
            "Copying gs://ethereum-bigdata/token_transfer_2019_11_01__2020_01_01_000000000004...\n",
            "Copying gs://ethereum-bigdata/token_transfer_2019_11_01__2020_01_01_000000000005...\n",
            "Copying gs://ethereum-bigdata/token_transfer_2019_11_01__2020_01_01_000000000006...\n",
            "Copying gs://ethereum-bigdata/token_transfer_2019_11_01__2020_01_01_000000000007...\n",
            "Copying gs://ethereum-bigdata/token_transfer_2019_11_01__2020_01_01_000000000008...\n",
            "Copying gs://ethereum-bigdata/token_transfer_2019_11_01__2020_01_01_000000000009...\n",
            "Copying gs://ethereum-bigdata/token_transfer_2019_11_01__2020_01_01_000000000010...\n",
            "Copying gs://ethereum-bigdata/token_transfer_2019_11_01__2020_01_01_000000000011...\n",
            "Copying gs://ethereum-bigdata/token_transfer_2019_11_01__2020_01_01_000000000012...\n",
            "Copying gs://ethereum-bigdata/token_transfer_2019_11_01__2020_01_01_000000000013...\n",
            "Copying gs://ethereum-bigdata/token_transfer_2019_11_01__2020_01_01_000000000014...\n",
            "Copying gs://ethereum-bigdata/token_transfer_2019_11_01__2020_01_01_000000000015...\n",
            "Copying gs://ethereum-bigdata/token_transfer_2019_11_01__2020_01_01_000000000016...\n",
            "Copying gs://ethereum-bigdata/token_transfer_2019_11_01__2020_01_01_000000000017...\n",
            "Copying gs://ethereum-bigdata/token_transfer_2019_11_01__2020_01_01_000000000018...\n",
            "Copying gs://ethereum-bigdata/token_transfer_2020_03_01__2020_05_01_000000000000...\n",
            "Copying gs://ethereum-bigdata/token_transfer_2020_03_01__2020_05_01_000000000001...\n",
            "Copying gs://ethereum-bigdata/token_transfer_2020_03_01__2020_05_01_000000000002...\n",
            "Copying gs://ethereum-bigdata/token_transfer_2020_03_01__2020_05_01_000000000003...\n",
            "Copying gs://ethereum-bigdata/token_transfer_2020_03_01__2020_05_01_000000000004...\n",
            "Copying gs://ethereum-bigdata/token_transfer_2020_03_01__2020_05_01_000000000005...\n",
            "Copying gs://ethereum-bigdata/token_transfer_2020_03_01__2020_05_01_000000000006...\n",
            "Copying gs://ethereum-bigdata/token_transfer_2020_03_01__2020_05_01_000000000007...\n",
            "Copying gs://ethereum-bigdata/token_transfer_2020_03_01__2020_05_01_000000000008...\n",
            "Copying gs://ethereum-bigdata/token_transfer_2020_03_01__2020_05_01_000000000009...\n",
            "Copying gs://ethereum-bigdata/token_transfer_2020_03_01__2020_05_01_000000000010...\n",
            "Copying gs://ethereum-bigdata/token_transfer_2020_03_01__2020_05_01_000000000011...\n",
            "Copying gs://ethereum-bigdata/token_transfer_2020_03_01__2020_05_01_000000000012...\n",
            "Copying gs://ethereum-bigdata/token_transfer_2020_03_01__2020_05_01_000000000013...\n",
            "Copying gs://ethereum-bigdata/token_transfer_2020_03_01__2020_05_01_000000000014...\n",
            "Copying gs://ethereum-bigdata/token_transfer_2020_07_01__2020_09_01_000000000000...\n",
            "Copying gs://ethereum-bigdata/token_transfer_2020_07_01__2020_09_01_000000000001...\n",
            "Copying gs://ethereum-bigdata/token_transfer_2020_07_01__2020_09_01_000000000002...\n",
            "Copying gs://ethereum-bigdata/token_transfer_2020_07_01__2020_09_01_000000000003...\n",
            "Copying gs://ethereum-bigdata/token_transfer_2020_07_01__2020_09_01_000000000004...\n",
            "Copying gs://ethereum-bigdata/token_transfer_2020_07_01__2020_09_01_000000000005...\n",
            "Copying gs://ethereum-bigdata/token_transfer_2020_07_01__2020_09_01_000000000006...\n",
            "Copying gs://ethereum-bigdata/token_transfer_2020_07_01__2020_09_01_000000000007...\n",
            "Copying gs://ethereum-bigdata/token_transfer_2020_07_01__2020_09_01_000000000008...\n",
            "Copying gs://ethereum-bigdata/token_transfer_2020_07_01__2020_09_01_000000000009...\n",
            "Copying gs://ethereum-bigdata/token_transfer_2020_07_01__2020_09_01_000000000010...\n",
            "Copying gs://ethereum-bigdata/token_transfer_2020_07_01__2020_09_01_000000000011...\n",
            "Copying gs://ethereum-bigdata/token_transfer_2020_07_01__2020_09_01_000000000012...\n",
            "Copying gs://ethereum-bigdata/token_transfer_2020_07_01__2020_09_01_000000000013...\n",
            "Copying gs://ethereum-bigdata/token_transfer_2020_07_01__2020_09_01_000000000014...\n",
            "Copying gs://ethereum-bigdata/token_transfer_2020_07_01__2020_09_01_000000000015...\n",
            "Copying gs://ethereum-bigdata/token_transfer_2020_07_01__2020_09_01_000000000016...\n",
            "Copying gs://ethereum-bigdata/token_transfer_2020_07_01__2020_09_01_000000000017...\n",
            "Copying gs://ethereum-bigdata/token_transfer_2020_07_01__2020_09_01_000000000018...\n",
            "Copying gs://ethereum-bigdata/token_transfer_2020_07_01__2020_09_01_000000000019...\n",
            "Copying gs://ethereum-bigdata/token_transfer_2020_07_01__2020_09_01_000000000020...\n",
            "Copying gs://ethereum-bigdata/token_transfer_2020_11_01__2021_01_01_000000000000...\n",
            "Copying gs://ethereum-bigdata/token_transfer_2020_11_01__2021_01_01_000000000001...\n",
            "Copying gs://ethereum-bigdata/token_transfer_2020_11_01__2021_01_01_000000000002...\n",
            "Copying gs://ethereum-bigdata/token_transfer_2020_11_01__2021_01_01_000000000003...\n",
            "Copying gs://ethereum-bigdata/token_transfer_2020_11_01__2021_01_01_000000000004...\n",
            "Copying gs://ethereum-bigdata/token_transfer_2020_11_01__2021_01_01_000000000005...\n",
            "Copying gs://ethereum-bigdata/token_transfer_2020_11_01__2021_01_01_000000000006...\n",
            "Copying gs://ethereum-bigdata/token_transfer_2020_11_01__2021_01_01_000000000007...\n",
            "Copying gs://ethereum-bigdata/token_transfer_2020_11_01__2021_01_01_000000000008...\n",
            "Copying gs://ethereum-bigdata/token_transfer_2020_11_01__2021_01_01_000000000009...\n",
            "Copying gs://ethereum-bigdata/token_transfer_2020_11_01__2021_01_01_000000000010...\n",
            "Copying gs://ethereum-bigdata/token_transfer_2020_11_01__2021_01_01_000000000011...\n",
            "Copying gs://ethereum-bigdata/token_transfer_2020_11_01__2021_01_01_000000000012...\n",
            "Copying gs://ethereum-bigdata/token_transfer_2020_11_01__2021_01_01_000000000013...\n",
            "Copying gs://ethereum-bigdata/token_transfer_2020_11_01__2021_01_01_000000000014...\n",
            "Copying gs://ethereum-bigdata/token_transfer_2020_11_01__2021_01_01_000000000015...\n",
            "Copying gs://ethereum-bigdata/token_transfer_2020_11_01__2021_01_01_000000000016...\n",
            "Copying gs://ethereum-bigdata/token_transfer_2020_11_01__2021_01_01_000000000017...\n",
            "Copying gs://ethereum-bigdata/token_transfer_2020_11_01__2021_01_01_000000000018...\n",
            "Copying gs://ethereum-bigdata/token_transfer_2020_11_01__2021_01_01_000000000019...\n",
            "Copying gs://ethereum-bigdata/token_transfer_2020_11_01__2021_01_01_000000000020...\n",
            "Copying gs://ethereum-bigdata/token_transfer_2020_11_01__2021_01_01_000000000021...\n",
            "Copying gs://ethereum-bigdata/token_transfer_2020_11_01__2021_01_01_000000000022...\n",
            "Copying gs://ethereum-bigdata/token_transfer_2020_11_01__2021_01_01_000000000023...\n",
            "Copying gs://ethereum-bigdata/token_transfer_2020_11_01__2021_01_01_000000000024...\n",
            "Copying gs://ethereum-bigdata/token_transfer_2020_11_01__2021_01_01_000000000025...\n",
            "| [81 files][ 38.7 GiB/ 38.7 GiB]   43.3 MiB/s                                  \n",
            "==> NOTE: You are performing a sequence of gsutil operations that may\n",
            "run significantly faster if you instead use gsutil -m cp ... Please\n",
            "see the -m section under \"gsutil help options\" for further information\n",
            "about when gsutil -m can be advantageous.\n",
            "\n",
            "\n",
            "Operation completed over 81 objects/38.7 GiB.                                    \n"
          ],
          "name": "stdout"
        }
      ]
    },
    {
      "cell_type": "code",
      "metadata": {
        "id": "ViyHLXXH7uj2"
      },
      "source": [
        "spark = SparkSession(sc)"
      ],
      "execution_count": 15,
      "outputs": []
    },
    {
      "cell_type": "code",
      "metadata": {
        "id": "LQ-d1R_nCsMo"
      },
      "source": [
        "token_transfer = os.listdir('/tmp')"
      ],
      "execution_count": 16,
      "outputs": []
    },
    {
      "cell_type": "code",
      "metadata": {
        "colab": {
          "base_uri": "https://localhost:8080/"
        },
        "id": "aSqbtDwKArQ3",
        "outputId": "b798dabc-24d8-4284-b7e5-3f1ac61ab7fc"
      },
      "source": [
        "token_transfer = [\"/tmp/\"+x for x in token_transfer if \"token_transfer_\" in x]\n",
        "token_transfer.sort()\n",
        "token_transfer"
      ],
      "execution_count": 17,
      "outputs": [
        {
          "output_type": "execute_result",
          "data": {
            "text/plain": [
              "['/tmp/token_transfer_2019_11_01__2020_01_01_000000000000',\n",
              " '/tmp/token_transfer_2019_11_01__2020_01_01_000000000001',\n",
              " '/tmp/token_transfer_2019_11_01__2020_01_01_000000000002',\n",
              " '/tmp/token_transfer_2019_11_01__2020_01_01_000000000003',\n",
              " '/tmp/token_transfer_2019_11_01__2020_01_01_000000000004',\n",
              " '/tmp/token_transfer_2019_11_01__2020_01_01_000000000005',\n",
              " '/tmp/token_transfer_2019_11_01__2020_01_01_000000000006',\n",
              " '/tmp/token_transfer_2019_11_01__2020_01_01_000000000007',\n",
              " '/tmp/token_transfer_2019_11_01__2020_01_01_000000000008',\n",
              " '/tmp/token_transfer_2019_11_01__2020_01_01_000000000009',\n",
              " '/tmp/token_transfer_2019_11_01__2020_01_01_000000000010',\n",
              " '/tmp/token_transfer_2019_11_01__2020_01_01_000000000011',\n",
              " '/tmp/token_transfer_2019_11_01__2020_01_01_000000000012',\n",
              " '/tmp/token_transfer_2019_11_01__2020_01_01_000000000013',\n",
              " '/tmp/token_transfer_2019_11_01__2020_01_01_000000000014',\n",
              " '/tmp/token_transfer_2019_11_01__2020_01_01_000000000015',\n",
              " '/tmp/token_transfer_2019_11_01__2020_01_01_000000000016',\n",
              " '/tmp/token_transfer_2019_11_01__2020_01_01_000000000017',\n",
              " '/tmp/token_transfer_2019_11_01__2020_01_01_000000000018',\n",
              " '/tmp/token_transfer_2020_03_01__2020_05_01_000000000000',\n",
              " '/tmp/token_transfer_2020_03_01__2020_05_01_000000000001',\n",
              " '/tmp/token_transfer_2020_03_01__2020_05_01_000000000002',\n",
              " '/tmp/token_transfer_2020_03_01__2020_05_01_000000000003',\n",
              " '/tmp/token_transfer_2020_03_01__2020_05_01_000000000004',\n",
              " '/tmp/token_transfer_2020_03_01__2020_05_01_000000000005',\n",
              " '/tmp/token_transfer_2020_03_01__2020_05_01_000000000006',\n",
              " '/tmp/token_transfer_2020_03_01__2020_05_01_000000000007',\n",
              " '/tmp/token_transfer_2020_03_01__2020_05_01_000000000008',\n",
              " '/tmp/token_transfer_2020_03_01__2020_05_01_000000000009',\n",
              " '/tmp/token_transfer_2020_03_01__2020_05_01_000000000010',\n",
              " '/tmp/token_transfer_2020_03_01__2020_05_01_000000000011',\n",
              " '/tmp/token_transfer_2020_03_01__2020_05_01_000000000012',\n",
              " '/tmp/token_transfer_2020_03_01__2020_05_01_000000000013',\n",
              " '/tmp/token_transfer_2020_03_01__2020_05_01_000000000014',\n",
              " '/tmp/token_transfer_2020_07_01__2020_09_01_000000000000',\n",
              " '/tmp/token_transfer_2020_07_01__2020_09_01_000000000001',\n",
              " '/tmp/token_transfer_2020_07_01__2020_09_01_000000000002',\n",
              " '/tmp/token_transfer_2020_07_01__2020_09_01_000000000003',\n",
              " '/tmp/token_transfer_2020_07_01__2020_09_01_000000000004',\n",
              " '/tmp/token_transfer_2020_07_01__2020_09_01_000000000005',\n",
              " '/tmp/token_transfer_2020_07_01__2020_09_01_000000000006',\n",
              " '/tmp/token_transfer_2020_07_01__2020_09_01_000000000007',\n",
              " '/tmp/token_transfer_2020_07_01__2020_09_01_000000000008',\n",
              " '/tmp/token_transfer_2020_07_01__2020_09_01_000000000009',\n",
              " '/tmp/token_transfer_2020_07_01__2020_09_01_000000000010',\n",
              " '/tmp/token_transfer_2020_07_01__2020_09_01_000000000011',\n",
              " '/tmp/token_transfer_2020_07_01__2020_09_01_000000000012',\n",
              " '/tmp/token_transfer_2020_07_01__2020_09_01_000000000013',\n",
              " '/tmp/token_transfer_2020_07_01__2020_09_01_000000000014',\n",
              " '/tmp/token_transfer_2020_07_01__2020_09_01_000000000015',\n",
              " '/tmp/token_transfer_2020_07_01__2020_09_01_000000000016',\n",
              " '/tmp/token_transfer_2020_07_01__2020_09_01_000000000017',\n",
              " '/tmp/token_transfer_2020_07_01__2020_09_01_000000000018',\n",
              " '/tmp/token_transfer_2020_07_01__2020_09_01_000000000019',\n",
              " '/tmp/token_transfer_2020_07_01__2020_09_01_000000000020',\n",
              " '/tmp/token_transfer_2020_11_01__2021_01_01_000000000000',\n",
              " '/tmp/token_transfer_2020_11_01__2021_01_01_000000000001',\n",
              " '/tmp/token_transfer_2020_11_01__2021_01_01_000000000002',\n",
              " '/tmp/token_transfer_2020_11_01__2021_01_01_000000000003',\n",
              " '/tmp/token_transfer_2020_11_01__2021_01_01_000000000004',\n",
              " '/tmp/token_transfer_2020_11_01__2021_01_01_000000000005',\n",
              " '/tmp/token_transfer_2020_11_01__2021_01_01_000000000006',\n",
              " '/tmp/token_transfer_2020_11_01__2021_01_01_000000000007',\n",
              " '/tmp/token_transfer_2020_11_01__2021_01_01_000000000008',\n",
              " '/tmp/token_transfer_2020_11_01__2021_01_01_000000000009',\n",
              " '/tmp/token_transfer_2020_11_01__2021_01_01_000000000010',\n",
              " '/tmp/token_transfer_2020_11_01__2021_01_01_000000000011',\n",
              " '/tmp/token_transfer_2020_11_01__2021_01_01_000000000012',\n",
              " '/tmp/token_transfer_2020_11_01__2021_01_01_000000000013',\n",
              " '/tmp/token_transfer_2020_11_01__2021_01_01_000000000014',\n",
              " '/tmp/token_transfer_2020_11_01__2021_01_01_000000000015',\n",
              " '/tmp/token_transfer_2020_11_01__2021_01_01_000000000016',\n",
              " '/tmp/token_transfer_2020_11_01__2021_01_01_000000000017',\n",
              " '/tmp/token_transfer_2020_11_01__2021_01_01_000000000018',\n",
              " '/tmp/token_transfer_2020_11_01__2021_01_01_000000000019',\n",
              " '/tmp/token_transfer_2020_11_01__2021_01_01_000000000020',\n",
              " '/tmp/token_transfer_2020_11_01__2021_01_01_000000000021',\n",
              " '/tmp/token_transfer_2020_11_01__2021_01_01_000000000022',\n",
              " '/tmp/token_transfer_2020_11_01__2021_01_01_000000000023',\n",
              " '/tmp/token_transfer_2020_11_01__2021_01_01_000000000024',\n",
              " '/tmp/token_transfer_2020_11_01__2021_01_01_000000000025']"
            ]
          },
          "metadata": {
            "tags": []
          },
          "execution_count": 17
        }
      ]
    },
    {
      "cell_type": "code",
      "metadata": {
        "id": "_r1h-wZ-DXNe"
      },
      "source": [
        "from functools import reduce\n",
        "dfToken_transfer = reduce(lambda x,y: x.unionAll(y), \n",
        "            [spark.read.format('com.databricks.spark.csv')\n",
        "                       .load(f, header=\"true\", inferSchema=\"true\") \n",
        "             for f in token_transfer])"
      ],
      "execution_count": 18,
      "outputs": []
    },
    {
      "cell_type": "code",
      "metadata": {
        "colab": {
          "base_uri": "https://localhost:8080/"
        },
        "id": "oX3EqlVjDxOB",
        "outputId": "b45b24de-02d2-4c88-a92f-99dc345d0bed"
      },
      "source": [
        "dfToken_transfer.createOrReplaceTempView(\"tokentransfer\")\n",
        "spark.sql(\"SELECT COUNT(*) FROM tokentransfer\").show()"
      ],
      "execution_count": 19,
      "outputs": [
        {
          "output_type": "stream",
          "text": [
            "+---------+\n",
            "| count(1)|\n",
            "+---------+\n",
            "|167801660|\n",
            "+---------+\n",
            "\n"
          ],
          "name": "stdout"
        }
      ]
    },
    {
      "cell_type": "code",
      "metadata": {
        "colab": {
          "base_uri": "https://localhost:8080/"
        },
        "id": "jefrY0bwHOAk",
        "outputId": "6a2e9898-3b2c-4361-b5ad-aed34210e3cb"
      },
      "source": [
        "dfToken_transfer.printSchema()"
      ],
      "execution_count": 22,
      "outputs": [
        {
          "output_type": "stream",
          "text": [
            "root\n",
            " |-- token_address: string (nullable = true)\n",
            " |-- from_address: string (nullable = true)\n",
            " |-- to_address: string (nullable = true)\n",
            " |-- value: double (nullable = true)\n",
            " |-- transaction_hash: string (nullable = true)\n",
            " |-- log_index: integer (nullable = true)\n",
            " |-- block_timestamp: string (nullable = true)\n",
            " |-- block_number: integer (nullable = true)\n",
            "\n"
          ],
          "name": "stdout"
        }
      ]
    },
    {
      "cell_type": "code",
      "metadata": {
        "colab": {
          "base_uri": "https://localhost:8080/"
        },
        "id": "nPxXlNvJK5GO",
        "outputId": "eb6d360b-71c1-415b-b64c-4f31002ea370"
      },
      "source": [
        "dfToken_transfer.take(5)"
      ],
      "execution_count": 23,
      "outputs": [
        {
          "output_type": "execute_result",
          "data": {
            "text/plain": [
              "[Row(token_address='0x9f8f72aa9304c8b593d555f12ef6589cc3a579a2', from_address='0x29098405fe3796251b9198a5c6475d7eb8c38dcd', to_address='0xc54df9fbe4212289ccb4d08546ba928cec7f9426', value=6983566899456733.0, transaction_hash='0xbbb6b63c201cfa43a96839f06a3e0352a05269a7fd37c0f7c6c46d4aeb1df35f', log_index=372, block_timestamp='2019-11-28 06:39:12 UTC', block_number=9014085),\n",
              " Row(token_address='0x457476bc97adef10aba63fcadaefe503553fa0d2', from_address='0x7ece946a162c2942072b3f31cc5e67c7c777313f', to_address='0x5acaf5ea106ba170a83466d238bc60cea2caaf6c', value=1000000000000.0, transaction_hash='0x0cfac85375af9c6305c0fcc040c2d2ff07a07a223ca5840e06515ab047320f43', log_index=69, block_timestamp='2019-11-28 13:08:00 UTC', block_number=9015625),\n",
              " Row(token_address='0x0cf0ee63788a0849fe5297f3407f701e122cc023', from_address='0x95de091a576a0a6caed5a888751acf9620ca18d0', to_address='0x3f5ce5fbfe3e9af3971dd833d26ba9b5c936f0be', value=1.0000843e+22, transaction_hash='0x3aac0b9d97ceaba8e32ac89708192c055e758eb74fa4322bb49957ea67b2d6ca', log_index=65, block_timestamp='2019-11-28 00:39:00 UTC', block_number=9012704),\n",
              " Row(token_address='0x9b209d0df02c25fa7570c28c2add15225c3536ac', from_address='0x825dd50d85d514b7dee2a434ee8902e401b7ad94', to_address='0x2c6d8f0e883cf29f0841bbb08bff445d08a3138a', value=5e+18, transaction_hash='0x8fda2ef579540f49343cd7e05279c03783fe0130bf5fd3a6d86f265944024c22', log_index=206, block_timestamp='2019-11-28 11:25:40 UTC', block_number=9015221),\n",
              " Row(token_address='0x1a94fce7ef36bc90959e206ba569a12afbc91ca1', from_address='0x0000000000000000000000000000000000000000', to_address='0x2cf124f8a2d1a090bd3d2a3f158512d3efeb33e7', value=78546.0, transaction_hash='0xb367aa4a83351c77dd442148e813eabdd821d8f6f6580990b273989b2395db99', log_index=171, block_timestamp='2019-11-28 11:29:28 UTC', block_number=9015239)]"
            ]
          },
          "metadata": {
            "tags": []
          },
          "execution_count": 23
        }
      ]
    },
    {
      "cell_type": "code",
      "metadata": {
        "colab": {
          "base_uri": "https://localhost:8080/"
        },
        "id": "EImGc1T2q2b7",
        "outputId": "70158086-1a05-45e9-ccf7-b2530104bf22"
      },
      "source": [
        "!gsutil cp gs://ethereum-bigdata/tokens_* /tmp/"
      ],
      "execution_count": 25,
      "outputs": [
        {
          "output_type": "stream",
          "text": [
            "Copying gs://ethereum-bigdata/tokens_2019_11_01...\n",
            "/ [1 files][  6.5 MiB/  6.5 MiB]                                                \n",
            "Operation completed over 1 objects/6.5 MiB.                                      \n"
          ],
          "name": "stdout"
        }
      ]
    },
    {
      "cell_type": "code",
      "metadata": {
        "id": "jKVEqHNuVL1l"
      },
      "source": [
        "tokens = os.listdir('/tmp')"
      ],
      "execution_count": 26,
      "outputs": []
    },
    {
      "cell_type": "code",
      "metadata": {
        "colab": {
          "base_uri": "https://localhost:8080/"
        },
        "id": "aTtwZBYRq1Mi",
        "outputId": "18d93f9b-dd19-43c8-ed86-1ddf5d9add1d"
      },
      "source": [
        "tokens = [\"/tmp/\"+x for x in tokens if \"tokens\" in x]\n",
        "tokens.sort()\n",
        "tokens"
      ],
      "execution_count": 27,
      "outputs": [
        {
          "output_type": "execute_result",
          "data": {
            "text/plain": [
              "['/tmp/tokens_2019_11_01']"
            ]
          },
          "metadata": {
            "tags": []
          },
          "execution_count": 27
        }
      ]
    },
    {
      "cell_type": "code",
      "metadata": {
        "id": "JTOlUyfvqhGS"
      },
      "source": [
        "from functools import reduce\n",
        "dfTokens = reduce(lambda x,y: x.unionAll(y), \n",
        "            [spark.read.format('com.databricks.spark.csv')\n",
        "                       .load(f, header=\"true\", inferSchema=\"true\") \n",
        "             for f in tokens])"
      ],
      "execution_count": 28,
      "outputs": []
    },
    {
      "cell_type": "code",
      "metadata": {
        "colab": {
          "base_uri": "https://localhost:8080/"
        },
        "id": "7qSiKe_qsBSG",
        "outputId": "cd547b30-82e8-479a-98ce-fa4733599f58"
      },
      "source": [
        "dfTokens.createOrReplaceTempView(\"tokens\")\n",
        "spark.sql(\"SELECT COUNT(*) FROM tokens\").show()"
      ],
      "execution_count": 30,
      "outputs": [
        {
          "output_type": "stream",
          "text": [
            "+--------+\n",
            "|count(1)|\n",
            "+--------+\n",
            "|   37992|\n",
            "+--------+\n",
            "\n"
          ],
          "name": "stdout"
        }
      ]
    },
    {
      "cell_type": "code",
      "metadata": {
        "colab": {
          "base_uri": "https://localhost:8080/"
        },
        "id": "2bO9cZ0psHrW",
        "outputId": "77dcec00-6b19-464a-cf84-f56419eddbbb"
      },
      "source": [
        "dfTokens.printSchema()"
      ],
      "execution_count": 31,
      "outputs": [
        {
          "output_type": "stream",
          "text": [
            "root\n",
            " |-- address: string (nullable = true)\n",
            " |-- symbol: string (nullable = true)\n",
            " |-- name: string (nullable = true)\n",
            " |-- decimals: string (nullable = true)\n",
            " |-- total_supply: string (nullable = true)\n",
            " |-- block_timestamp: string (nullable = true)\n",
            " |-- block_number: string (nullable = true)\n",
            " |-- block_hash: string (nullable = true)\n",
            "\n"
          ],
          "name": "stdout"
        }
      ]
    },
    {
      "cell_type": "code",
      "metadata": {
        "colab": {
          "base_uri": "https://localhost:8080/"
        },
        "id": "Po3EierXsN9H",
        "outputId": "3c289620-d53e-4688-f55a-56104076c38b"
      },
      "source": [
        "dfTokens.take(5)"
      ],
      "execution_count": 32,
      "outputs": [
        {
          "output_type": "execute_result",
          "data": {
            "text/plain": [
              "[Row(address='0xad03473a02210fd53e3c44fbbda3e27f2314691a', symbol=None, name=None, decimals=None, total_supply=None, block_timestamp='2019-11-23 17:48:16 UTC', block_number='8987748', block_hash='0xd8a7e145f7cbd90ebad496d97344bde66fc2e1ae70849eb331ffc6a2e1732370'),\n",
              " Row(address='0x2acdbcbfea81d242f364f8d97ab2bf04c7d3946d', symbol=None, name=None, decimals=None, total_supply=None, block_timestamp='2019-11-18 16:15:00 UTC', block_number='8957431', block_hash='0x8b2ad641e100acbed18cff18e32283324c13a6c0b982fe9007bdd29af9d8d220'),\n",
              " Row(address='0x040b27772cd7e7337186619f6d66d4308ba6b068', symbol=None, name=None, decimals=None, total_supply=None, block_timestamp='2019-11-08 03:00:13 UTC', block_number='8893758', block_hash='0xa87fb5f780e1e16986abae6734bbb9dc7e7ace119f315fa5faff22419918405b'),\n",
              " Row(address='0xe35257f56ee409523616b15179635b7e05087a80', symbol=None, name=None, decimals=None, total_supply=None, block_timestamp='2019-11-17 15:21:35 UTC', block_number='8951159', block_hash='0xf49d78e9b77858d2eebd0224ad0aa277d5a2b0d5552e890fed7bd0db8da75c97'),\n",
              " Row(address='0xc11eaf8db7e9288e1435df7eb0e4d23d7b2316aa', symbol=None, name=None, decimals=None, total_supply=None, block_timestamp='2020-04-02 16:37:53 UTC', block_number='9793647', block_hash='0x621c4600ac22b7cc77db798e24521820d501b04fe948bd0ea05f477c8f023c56')]"
            ]
          },
          "metadata": {
            "tags": []
          },
          "execution_count": 32
        }
      ]
    },
    {
      "cell_type": "code",
      "metadata": {
        "colab": {
          "base_uri": "https://localhost:8080/"
        },
        "id": "tD7XetyQsRDJ",
        "outputId": "f0c81589-e961-4c9d-83bc-a563d8f7c411"
      },
      "source": [
        "!gsutil cp gs://ethereum-bigdata/blocks_* /tmp/"
      ],
      "execution_count": 33,
      "outputs": [
        {
          "output_type": "stream",
          "text": [
            "Copying gs://ethereum-bigdata/blocks_2019_11_01_000000000000...\n",
            "Copying gs://ethereum-bigdata/blocks_2019_11_01_000000000001...\n",
            "Copying gs://ethereum-bigdata/blocks_2019_11_01_000000000002...\n",
            "Copying gs://ethereum-bigdata/blocks_2019_11_01_000000000003...\n",
            "\\ [4 files][  2.0 GiB/  2.0 GiB]   67.4 MiB/s                                   \n",
            "==> NOTE: You are performing a sequence of gsutil operations that may\n",
            "run significantly faster if you instead use gsutil -m cp ... Please\n",
            "see the -m section under \"gsutil help options\" for further information\n",
            "about when gsutil -m can be advantageous.\n",
            "\n",
            "Copying gs://ethereum-bigdata/blocks_2019_11_01_000000000004...\n",
            "Copying gs://ethereum-bigdata/blocks_2019_11_01_000000000005...\n",
            "Copying gs://ethereum-bigdata/blocks_2019_11_01_000000000006...\n",
            "- [7 files][  3.4 GiB/  3.4 GiB]   50.9 MiB/s                                   \n",
            "Operation completed over 7 objects/3.4 GiB.                                      \n"
          ],
          "name": "stdout"
        }
      ]
    },
    {
      "cell_type": "code",
      "metadata": {
        "id": "P9REc5EaslO3"
      },
      "source": [
        "blocks = os.listdir('/tmp')"
      ],
      "execution_count": 34,
      "outputs": []
    },
    {
      "cell_type": "code",
      "metadata": {
        "colab": {
          "base_uri": "https://localhost:8080/"
        },
        "id": "gC75LhgmtTBI",
        "outputId": "f3120b49-3a1e-4b6c-8e9d-7564bc72ea61"
      },
      "source": [
        "blocks = [\"/tmp/\"+x for x in blocks if \"blocks\" in x]\n",
        "blocks.sort()\n",
        "blocks"
      ],
      "execution_count": 35,
      "outputs": [
        {
          "output_type": "execute_result",
          "data": {
            "text/plain": [
              "['/tmp/blocks_2019_11_01_000000000000',\n",
              " '/tmp/blocks_2019_11_01_000000000001',\n",
              " '/tmp/blocks_2019_11_01_000000000002',\n",
              " '/tmp/blocks_2019_11_01_000000000003',\n",
              " '/tmp/blocks_2019_11_01_000000000004',\n",
              " '/tmp/blocks_2019_11_01_000000000005',\n",
              " '/tmp/blocks_2019_11_01_000000000006']"
            ]
          },
          "metadata": {
            "tags": []
          },
          "execution_count": 35
        }
      ]
    },
    {
      "cell_type": "code",
      "metadata": {
        "id": "2gqxwMqUtb5C"
      },
      "source": [
        "from functools import reduce\n",
        "dfBlocks = reduce(lambda x,y: x.unionAll(y), \n",
        "            [spark.read.format('com.databricks.spark.csv')\n",
        "                       .load(f, header=\"true\", inferSchema=\"true\") \n",
        "             for f in blocks])"
      ],
      "execution_count": 36,
      "outputs": []
    },
    {
      "cell_type": "code",
      "metadata": {
        "colab": {
          "base_uri": "https://localhost:8080/"
        },
        "id": "sm6HVHlMtti5",
        "outputId": "f3237c4d-046d-4413-bda1-bea2cefdc87c"
      },
      "source": [
        "dfBlocks.createOrReplaceTempView(\"blocks\")\n",
        "spark.sql(\"SELECT COUNT(*) FROM blocks\").show()"
      ],
      "execution_count": 37,
      "outputs": [
        {
          "output_type": "stream",
          "text": [
            "+--------+\n",
            "|count(1)|\n",
            "+--------+\n",
            "| 3292493|\n",
            "+--------+\n",
            "\n"
          ],
          "name": "stdout"
        }
      ]
    },
    {
      "cell_type": "code",
      "metadata": {
        "colab": {
          "base_uri": "https://localhost:8080/"
        },
        "id": "ya-cmRbSupJ7",
        "outputId": "76d65006-ab58-4c61-c75e-77134f3e431b"
      },
      "source": [
        "dfBlocks.printSchema()"
      ],
      "execution_count": 38,
      "outputs": [
        {
          "output_type": "stream",
          "text": [
            "root\n",
            " |-- timestamp: string (nullable = true)\n",
            " |-- number: integer (nullable = true)\n",
            " |-- hash: string (nullable = true)\n",
            " |-- parent_hash: string (nullable = true)\n",
            " |-- nonce: string (nullable = true)\n",
            " |-- sha3_uncles: string (nullable = true)\n",
            " |-- logs_bloom: string (nullable = true)\n",
            " |-- transactions_root: string (nullable = true)\n",
            " |-- state_root: string (nullable = true)\n",
            " |-- receipts_root: string (nullable = true)\n",
            " |-- miner: string (nullable = true)\n",
            " |-- difficulty: long (nullable = true)\n",
            " |-- total_difficulty: decimal(23,0) (nullable = true)\n",
            " |-- size: integer (nullable = true)\n",
            " |-- extra_data: string (nullable = true)\n",
            " |-- gas_limit: integer (nullable = true)\n",
            " |-- gas_used: integer (nullable = true)\n",
            " |-- transaction_count: integer (nullable = true)\n",
            "\n"
          ],
          "name": "stdout"
        }
      ]
    },
    {
      "cell_type": "code",
      "metadata": {
        "colab": {
          "base_uri": "https://localhost:8080/"
        },
        "id": "UvpJbtFZuu3z",
        "outputId": "9698339d-b6e3-4791-b821-785ebfe10242"
      },
      "source": [
        "dfBlocks.take(5)"
      ],
      "execution_count": 39,
      "outputs": [
        {
          "output_type": "execute_result",
          "data": {
            "text/plain": [
              "[Row(timestamp='2021-01-08 05:29:58 UTC', number=11612121, hash='0x0073e6f310bf666e16e8d429e8ecdc26850f2f7ed858a6cc87cb19f3a75dbc89', parent_hash='0xd42498354f7466cc917318f222866848af142212b7f6b036ab9bbbe6f4c6071f', nonce='0xf3f9a9668b2464a9', sha3_uncles='0x1dcc4de8dec75d7aab85b567b6ccd41ad312451b948a7413f0a142fd40d49347', logs_bloom='0xa82a11aec8a008471c49b880e0895a006208800d86d04018100504e564008015e900012060110a0100411001001919388290985058e418510378c010b238c348980204615218f65c680281a8a0c0c2a0108500038c40680128000c81f36231007018082c0220b44c452848800442888963005102502946105822341110041c0080088987d2003e046a44106908209c4e3302885511007098413320410b18080a0fb4dc201a1420320400809c1140e89100080014242ae0a40406311702062078154a2ea3c84c10044a04900913e8124640b84300108da814800170928410642a8cb2a1505084112875010085883980b002a40040280006494291430d0b09340a', transactions_root='0x4268a77e3be6220098d538d20f08dc8dd3b98ff4a77b2f44866539b4edfde3cf', state_root='0x59cf22533a2cc22cea20f7ae55265297f1b6bfb8f57f6bd5b349c4ccc78c60b1', receipts_root='0xdf2b53ffcba838f5c6485d2ccabf688a77420b759730dcb065aa32f9a7198015', miner='0x99c85bb64564d9ef9a99621301f22c9993cb89e3', difficulty=3854885702537212, total_difficulty=Decimal('19992654345192569154678'), size=16443, extra_data='0x626565706f6f6c2e6f72675f3331c5', gas_limit=12499749, gas_used=12499056, transaction_count=73),\n",
              " Row(timestamp='2021-01-08 10:17:54 UTC', number=11613478, hash='0x2523458ac7f10db1e101aa16b01572f5d129e3a47860da386df7235c4a50efb4', parent_hash='0x0d57d1d35c781af8f59cde902a8ddebe3dac22e595fc1658fd7b8307d9400f2a', nonce='0x1cfc59e26d4f562a', sha3_uncles='0x1dcc4de8dec75d7aab85b567b6ccd41ad312451b948a7413f0a142fd40d49347', logs_bloom='0x17216000521c159da061340d88891a414a80001fa0107a40121b0005004a1936184441e1c29c5a9278247028bb4249990210c4900a050ace625b121323e080113022011a1200a93bec716219310a136a0a3680e289eb880f227281d8806714909e81094426c0b3800b4278a00258e842c2034b00942c3f5028a4343450edf5b0980182a74ae92a4400583acc089888106000a90d4d00380c09ce39662818408286d804000089205a00a041c430d1c21143433901cc9100656c861400202245c409d2226e403003b20a70802b0042003582c843021b87101111807a021200a0300198ba147c2150401385962042a0215cc66003c2cde602d8280bf1028214002a', transactions_root='0x26c561c2dfab2930e213a6aebf15b5d25a09e7bffcb739d505c42a8e84f313cf', state_root='0xfa1e7aed63eec7230a07116fd9d25385c329fcd54ca091e361d4fa33526d8a5e', receipts_root='0x78dc71ec92931237fe9767e671228aee0a14e069b66c9a27bd764efa0521d5ff', miner='0xea674fdde714fd979de3edf0f56aa9716b898ec8', difficulty=3985851461728417, total_difficulty=Decimal('19997962514502153087402'), size=28227, extra_data='0x65746865726d696e652d65752d77657374332d312d67657468', gas_limit=12487794, gas_used=12478033, transaction_count=114),\n",
              " Row(timestamp='2021-01-08 15:38:05 UTC', number=11614945, hash='0xa256758b4047028280ff137eb6a85ea771fc65bd64d35b5b8f1051ecf837ace7', parent_hash='0xd9e40bae54701a30e5d6bb978690033b1c314da54b9258b1bd7c9fab8639a34a', nonce='0xd25966664fc52d12', sha3_uncles='0x1dcc4de8dec75d7aab85b567b6ccd41ad312451b948a7413f0a142fd40d49347', logs_bloom='0x71664106a4c2210799b247a9a64fdc274002d0d49919b052350da054aa82022be09486213570e4905b959a5a105229718a50fea64bf3c88602b78076b0f4073a9089c158e852c2e1cf50c6ad35344fedde33820501475bc584cea4f9cf5ad45b5e18cd992b40df5b637d9940d00ed8c1461ac6264489a7474485c5549a4578ebd820b2555323a0c1d65b477819aa960620437ef10b30d438c50bcdcc86f4cb40cbaa8b8b535277722cdb82a5111b2394a0612c00c09e88031c72617c9a536b440401857e890a300007111461e2d80d980f100242754f4c5d4418ca2658547d01149ca5dcb8e114209d44ec480d9038128c250242cc74c1503706980429a6c10e', transactions_root='0x40e8c784fce14280e171c4337d092991b74f55be4814404f174ba0f253879a46', state_root='0xee85ad5a60cec5d37403df2a503757a46c0ce6a9dd5bd5859b74aac49d8a3810', receipts_root='0x2c14d81e2a089c9940efee8fa79e930a2bb1099df1538f6ddf5a05aa4ec937c3', miner='0x5a0b54d5dc17e0aadc383d2db43b0a0d3e029c4c', difficulty=4055110556777884, total_difficulty=Decimal('20003881974435182809024'), size=39989, extra_data='0x6574682d70726f2d687a6f2d74303036', gas_limit=12524215, gas_used=12513097, transaction_count=209),\n",
              " Row(timestamp='2021-01-08 05:43:56 UTC', number=11612188, hash='0x386616973a70462dabc32f44e48e7a92b6c33a7fb2ddf8a27eae412cde46d0cb', parent_hash='0xeb18f8066617a1897a0cdbcc960b3b25480d18e03ce5af71893c810a5b9a8f07', nonce='0xb70f9504d3f662f8', sha3_uncles='0x1dcc4de8dec75d7aab85b567b6ccd41ad312451b948a7413f0a142fd40d49347', logs_bloom='0x36b7e1a2d98173b569e4efbbe21156992c1a358b984839f22b9be115c8fa48b2c23ee2e2014a298150c86248174f0d00af08c4071b3301b7c85bd74322a970d212085c49af1a93d65cc8f158a5f54060bdbb6c64c75db6466e0cc75af2d1bb9d701484973782dce3ce2ac2984c90b9b0fbcc48460c7f9cc11865447cbb3a53810a8d9387d75d7ea4866d745c8cf2aeda22d14d974b673649c41e70c71e16d8d22bfd0f93783d20e20dd1c385095094f16232196990a54126303d31f092b8415b273d11222b1e96a88096da526b9c6b9f0517d6626dae4115a245fdb7c4243219c55b289c361105bbf05e748096d4fee40fe482e2a09dcdc2a9c893ac50f21624', transactions_root='0x9f9b537df3340055832c64eee02ecbb81b848fada18a73236e4d1be39fa1edb8', state_root='0xae5b3da30c376a1c3eca7756b1fdc2a1519f996e0050cb4d3aada26a38d5613e', receipts_root='0x124eb5e2f94f2bd02df5029304f0a65814973c7d417b19cfe6ef2f228ac93947', miner='0x00192fb10df37c9fb26829eb2cc623cd1bf599e8', difficulty=3864253891572899, total_difficulty=Decimal('19992913450791603038064'), size=46378, extra_data='0x457468657265756d50504c4e532f326d696e6572735f4555', gas_limit=12481377, gas_used=12460983, transaction_count=220),\n",
              " Row(timestamp='2021-01-05 06:52:49 UTC', number=11593001, hash='0x21cb3c9c8b03c6657b6cfeec02c24e1f226e896415b26efdaf336cc193d9e25d', parent_hash='0x8a5163176f678e31e24fd65ecf03f83b573b7296973af11db61bf5e27da8e39c', nonce='0x73102911196ae3d4', sha3_uncles='0x1dcc4de8dec75d7aab85b567b6ccd41ad312451b948a7413f0a142fd40d49347', logs_bloom='0x71ebd0391c53c0540cf22198dad054a318c290d8edbd8c40a009dd46c8da53f8cc941149e20e4d14c0f2c00efa7101103f3c49222b2254e550e6733681f7d33900814163485183e4e841200c008339ec28b030a6bbf4309d5e054fa388d82c2b7da00e020a84404721c97104c33569b007fc6496726c101b0a21bab509381ac53a7d204b814a975711dd178b1c46050e111e905721240c2a84123258a09d78993b9f241636482c0f9fa647b6c99355030053d70c89009657806f5349a240aaf26890210a809fe830070c51a5a16700e37e80161526098014f2c350c2b5e66c070398e659b129009c8859d465f20fb028fa72c02950b22d43c8dcd048f7249eb4', transactions_root='0x5ad0c8204ba91394ac2cf2c4c732020f0fb7b05f88851d2b734119d724c214e9', state_root='0x285b0ecb31c462b405368948677ff3169dad8a15c16e204c8507ffaa0ce966fc', receipts_root='0x841e2b8074fdc37ed0aa020c23f1539be0017664aa29fdc76023b4b68809711e', miner='0x7d6dabd6b5c75291a3258c29b418f5805792a875', difficulty=3862868929807939, total_difficulty=Decimal('19917882578302282367494'), size=32132, extra_data='0x7a68352f00253817', gas_limit=12451224, gas_used=12438882, transaction_count=145)]"
            ]
          },
          "metadata": {
            "tags": []
          },
          "execution_count": 39
        }
      ]
    },
    {
      "cell_type": "code",
      "metadata": {
        "id": "t12EOyvOu6ot"
      },
      "source": [
        ""
      ],
      "execution_count": null,
      "outputs": []
    }
  ]
}